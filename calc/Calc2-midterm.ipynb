{
 "cells": [
  {
   "cell_type": "markdown",
   "id": "f991c6dd",
   "metadata": {},
   "source": [
    "# Calc 2 Mid-Term Summer 2021\n",
    "Here is a collection of problems pulled from Jim's PowerPoint presentations.\n"
   ]
  },
  {
   "cell_type": "markdown",
   "id": "8a7fbb4f",
   "metadata": {},
   "source": [
    "1. Evaluate the following:\n",
    "\n",
    "$$\\int \\cos^4(2t)\\,dt$$\n",
    "$$\\int \\cos(3t)\\sin(8t)\\,dt$$\n",
    "$$\\int_1^3 \\sin(8x)\\sin(x)\\,dx$$\n",
    "$$\\int \\cot(10x)\\csc^4(10x)\\,dx$$"
   ]
  },
  {
   "cell_type": "code",
   "execution_count": 3,
   "id": "bc53e804",
   "metadata": {},
   "outputs": [
    {
     "data": {
      "text/latex": [
       "\\[\\tag{${\\it \\%o}_{3}$}\\frac{\\frac{\\frac{\\sin \\left(8\\,t\\right)}{2}+4\\,t}{8}+\\frac{\\sin \\left(4\\,t\\right)}{2}+t}{4}\\]"
      ],
      "text/plain": [
       "                         sin(8 t)\n",
       "                         -------- + 4 t\n",
       "                            2             sin(4 t)\n",
       "                         -------------- + -------- + t\n",
       "                               8             2\n",
       "(%o3)                    -----------------------------\n",
       "                                       4"
      ],
      "text/x-maxima": [
       "((sin(8*t)/2+4*t)/8+sin(4*t)/2+t)/4"
      ]
     },
     "execution_count": 3,
     "metadata": {},
     "output_type": "execute_result"
    }
   ],
   "source": [
    "integrate((cos(2*t))^4,t);"
   ]
  },
  {
   "cell_type": "code",
   "execution_count": 2,
   "id": "2f52e8d4",
   "metadata": {},
   "outputs": [
    {
     "data": {
      "text/latex": [
       "\\[\\tag{${\\it \\%o}_{2}$}-\\frac{\\cos \\left(11\\,t\\right)}{22}-\\frac{\\cos \\left(5\\,t\\right)}{10}\\]"
      ],
      "text/plain": [
       "                              cos(11 t)    cos(5 t)\n",
       "(%o2)                      (- ---------) - --------\n",
       "                                 22           10"
      ],
      "text/x-maxima": [
       "(-cos(11*t)/22)-cos(5*t)/10"
      ]
     },
     "execution_count": 2,
     "metadata": {},
     "output_type": "execute_result"
    }
   ],
   "source": [
    "integrate(cos(3*t)*sin(8*t),t);"
   ]
  },
  {
   "cell_type": "code",
   "execution_count": 5,
   "id": "f6ce04b2",
   "metadata": {},
   "outputs": [
    {
     "data": {
      "text/latex": [
       "\\[\\tag{${\\it \\%o}_{5}$}\\frac{7\\,\\sin 9-9\\,\\sin 7}{126}-\\frac{7\\,\\sin 27-9\\,\\sin 21}{126}\\]"
      ],
      "text/plain": [
       "                  7 sin(9) - 9 sin(7)   7 sin(27) - 9 sin(21)\n",
       "(%o5)             ------------------- - ---------------------\n",
       "                          126                    126"
      ],
      "text/x-maxima": [
       "(7*sin(9)-9*sin(7))/126-(7*sin(27)-9*sin(21))/126"
      ]
     },
     "execution_count": 5,
     "metadata": {},
     "output_type": "execute_result"
    }
   ],
   "source": [
    "integrate(sin(8*x)*sin(x),x,1,3);"
   ]
  },
  {
   "cell_type": "code",
   "execution_count": 6,
   "id": "2b3c1057",
   "metadata": {},
   "outputs": [
    {
     "data": {
      "text/latex": [
       "\\[\\tag{${\\it \\%o}_{6}$}-0.01740302177606207\\]"
      ],
      "text/plain": [
       "(%o6)                        - 0.01740302177606207"
      ],
      "text/x-maxima": [
       "-0.01740302177606207"
      ]
     },
     "execution_count": 6,
     "metadata": {},
     "output_type": "execute_result"
    }
   ],
   "source": [
    "float(integrate(sin(8*x)*sin(x),x,1,3));"
   ]
  },
  {
   "cell_type": "code",
   "execution_count": 8,
   "id": "60592416",
   "metadata": {},
   "outputs": [
    {
     "data": {
      "text/latex": [
       "\\[\\tag{${\\it \\%o}_{8}$}-\\frac{1}{40\\,\\sin ^4\\left(10\\,x\\right)}\\]"
      ],
      "text/plain": [
       "                                        1\n",
       "(%o8)                           - -------------\n",
       "                                        4\n",
       "                                  40 sin (10 x)"
      ],
      "text/x-maxima": [
       "-1/(40*sin(10*x)^4)"
      ]
     },
     "execution_count": 8,
     "metadata": {},
     "output_type": "execute_result"
    }
   ],
   "source": [
    "integrate(cot(10*x)*(csc(10*x))^4,x);"
   ]
  },
  {
   "cell_type": "markdown",
   "id": "15971d41",
   "metadata": {},
   "source": [
    "## Some useful identities\n",
    "* $\\sin^2(x)+\\cos^2(x)=1$\n",
    "* $\\tan^2(x)+1=\\sec^2(x)$\n",
    "* $\\cos^2(x)=\\frac12\\left(1+\\cos(2x)\\right)$\n",
    "* $\\sin^2(x)=\\frac12\\left(1-\\cos(2x)\\right)$\n",
    "* $\\sin(x)\\cos(x)=\\frac12\\sin(2x)$"
   ]
  },
  {
   "cell_type": "markdown",
   "id": "228705c6",
   "metadata": {},
   "source": [
    "## Trig Substitution:\n",
    "|Form |Looks Like|Substitution|Limit Assumptions|\n",
    "| :----------------: | :----------------: | :----------------: | :----------------: |\n",
    "|$$\\sqrt{b^2x^2-a^2}$$|$$\\sec^2(\\theta)-1=\\tan^2(\\theta)$$|$$x=\\frac{a}{b}\\sec(\\theta)$$|$$0\\le\\theta<\\frac{\\pi}{2},\\,\\frac{\\pi}{2}<\\theta\\le \\pi$$|\n",
    "|$$\\sqrt{a^2-b^2x^2}$$|$$1-\\sin^2(\\theta)=\\cos^2(\\theta)$$|$$x=\\frac{a}{b}\\sin(\\theta)$$|$$-\\frac{\\pi}{2}\\le\\theta\\le\\frac{\\pi}{2}$$|\n",
    "|$$\\sqrt{a^2+b^2x^2}$$|$$\\tan^2(\\theta)+1=\\sec^2(\\theta)$$|$$x=\\frac{a}{b}\\tan(\\theta)$$|$$-\\frac{\\pi}{2}<\\theta<\\frac{\\pi}{2}$$|"
   ]
  },
  {
   "cell_type": "markdown",
   "id": "c143a48e",
   "metadata": {},
   "source": [
    "Use a trig substitution to eliminate the root.\n",
    "1. $\\sqrt{4-9x^2}$\n",
    "2. $\\sqrt{3+25x^2}$\n",
    "3. $\\left(7x^2-3\\right)^{\\frac{5}{2}}$\n",
    "4. $\\sqrt{(w+3)^2-100}$\n",
    "5. $\\sqrt{4(9x-5)^2+1}$\n",
    "6. $\\sqrt{1-4x-2x^2}$\n",
    "7. $\\left( x^2-8x+21 \\right)^{\\frac{3}{2}}$\n",
    "8. $\\sqrt{e^{8x}-9}$"
   ]
  },
  {
   "cell_type": "code",
   "execution_count": 11,
   "id": "107d5055",
   "metadata": {},
   "outputs": [
    {
     "data": {
      "text/latex": [
       "\\[\\tag{${\\it \\%o}_{12}$}\\sqrt{4-4\\,\\sec ^2\\vartheta}\\]"
      ],
      "text/plain": [
       "                                          2\n",
       "(%o12)                      sqrt(4 - 4 sec (theta))"
      ],
      "text/x-maxima": [
       "sqrt(4-4*sec(theta)^2)"
      ]
     },
     "execution_count": 11,
     "metadata": {},
     "output_type": "execute_result"
    },
    {
     "data": {
      "text/latex": [
       "\\[\\tag{${\\it \\%o}_{13}$}2\\,\\sqrt{1-\\sec ^2\\vartheta}\\]"
      ],
      "text/plain": [
       "                                          2\n",
       "(%o13)                      2 sqrt(1 - sec (theta))"
      ],
      "text/x-maxima": [
       "2*sqrt(1-sec(theta)^2)"
      ]
     },
     "execution_count": 11,
     "metadata": {},
     "output_type": "execute_result"
    }
   ],
   "source": [
    "f1(x):=sqrt(4-9*x^2)$\n",
    "    f1((2/3)*sec(theta));\n",
    "    factor(f1((2/3)*sec(theta)));"
   ]
  },
  {
   "cell_type": "markdown",
   "id": "eb25ef75",
   "metadata": {},
   "source": [
    "Notice that $2\\sqrt{1-\\sec^2(\\theta)}=2\\sqrt{\\tan^2(\\theta)}=2\\tan(\\theta)$. Thus, by letting $x=\\frac{2}{3}\\sec(\\theta)$ we have $$\\sqrt{4-9x^2}=2\\tan(\\theta)$$"
   ]
  },
  {
   "cell_type": "code",
   "execution_count": 12,
   "id": "98552026",
   "metadata": {},
   "outputs": [
    {
     "data": {
      "text/latex": [
       "\\[\\tag{${\\it \\%o}_{15}$}\\sqrt{3\\,\\tan ^2\\vartheta+3}\\]"
      ],
      "text/plain": [
       "                                      2\n",
       "(%o15)                      sqrt(3 tan (theta) + 3)"
      ],
      "text/x-maxima": [
       "sqrt(3*tan(theta)^2+3)"
      ]
     },
     "execution_count": 12,
     "metadata": {},
     "output_type": "execute_result"
    },
    {
     "data": {
      "text/latex": [
       "\\[\\tag{${\\it \\%o}_{16}$}\\sqrt{3}\\,\\sqrt{\\tan ^2\\vartheta+1}\\]"
      ],
      "text/plain": [
       "                                         2\n",
       "(%o16)                   sqrt(3) sqrt(tan (theta) + 1)"
      ],
      "text/x-maxima": [
       "sqrt(3)*sqrt(tan(theta)^2+1)"
      ]
     },
     "execution_count": 12,
     "metadata": {},
     "output_type": "execute_result"
    }
   ],
   "source": [
    "f2(x):=sqrt(3+25*x^2)$\n",
    "    f2((sqrt(3)/5)*tan(theta));\n",
    "    factor(f2((sqrt(3)/5)*tan(theta)));"
   ]
  },
  {
   "cell_type": "markdown",
   "id": "3d3a1d4f",
   "metadata": {},
   "source": [
    "Notice that $\\sqrt3\\sqrt{\\tan^2(\\theta)+1}=\\sqrt3\\sqrt{\\sec^2(\\theta)}=\\sqrt3\\sec(\\theta)$. thus, by letting $x=\\frac{\\sqrt3}{5}\\tan(\\theta)$ we have $$\\sqrt{3+25x^2}=\\sqrt3\\sec(\\theta)$$"
   ]
  },
  {
   "cell_type": "code",
   "execution_count": 7,
   "id": "295ed784",
   "metadata": {},
   "outputs": [
    {
     "data": {
      "text/latex": [
       "\\[\\tag{${\\it \\%o}_{12}$}\\left(3\\,\\sec ^2\\vartheta-3\\right)^{\\frac{5}{2}}\\]"
      ],
      "text/plain": [
       "                                  2            5/2\n",
       "(%o12)                      (3 sec (theta) - 3)"
      ],
      "text/x-maxima": [
       "(3*sec(theta)^2-3)^(5/2)"
      ]
     },
     "execution_count": 7,
     "metadata": {},
     "output_type": "execute_result"
    },
    {
     "data": {
      "text/latex": [
       "\\[\\tag{${\\it \\%o}_{13}$}3^{\\frac{5}{2}}\\,\\left(\\sec ^2\\vartheta-1\\right)^{\\frac{5}{2}}\\]"
      ],
      "text/plain": [
       "                            5/2     2            5/2\n",
       "(%o13)                     3    (sec (theta) - 1)"
      ],
      "text/x-maxima": [
       "3^(5/2)*(sec(theta)^2-1)^(5/2)"
      ]
     },
     "execution_count": 7,
     "metadata": {},
     "output_type": "execute_result"
    },
    {
     "data": {
      "text/latex": [
       "\\[\\tag{${\\it \\%o}_{14}$}3^{\\frac{5}{2}}\\,\\tan ^4\\vartheta\\,\\left| \\tan \\vartheta\\right| \\]"
      ],
      "text/plain": [
       "                        5/2    4\n",
       "(%o14)                 3    tan (theta) abs(tan(theta))"
      ],
      "text/x-maxima": [
       "3^(5/2)*tan(theta)^4*abs(tan(theta))"
      ]
     },
     "execution_count": 7,
     "metadata": {},
     "output_type": "execute_result"
    }
   ],
   "source": [
    "f3(x):=(7*x^2-3)^(5/2)$\n",
    "    f3((sqrt(3)/sqrt(7)*sec(theta)));\n",
    "    factor(f3((sqrt(3)/sqrt(7)*sec(theta))));\n",
    "    3^(5/2)*((tan(theta))^2)^(5/2);"
   ]
  },
  {
   "cell_type": "markdown",
   "id": "8068e6b2",
   "metadata": {},
   "source": [
    "Notice that $3^{5/2}\\cdot (\\sec^2(\\theta)-1)^{5/2} = 3^{5/2}\\cdot tan^5(\\theta)$. Thus, by letting $x=\\frac{\\sqrt3}{\\sqrt7}\\sec(\\theta)$ we have $$\\left(7x^2-3\\right)^{5/2}=3^{5/2}\\tan^5(\\theta)$$"
   ]
  },
  {
   "cell_type": "code",
   "execution_count": 14,
   "id": "df5db73e",
   "metadata": {},
   "outputs": [
    {
     "data": {
      "text/latex": [
       "\\[\\tag{${\\it \\%o}_{33}$}\\sqrt{100\\,\\sec ^2\\vartheta-100}\\]"
      ],
      "text/plain": [
       "                                      2\n",
       "(%o33)                    sqrt(100 sec (theta) - 100)"
      ],
      "text/x-maxima": [
       "sqrt(100*sec(theta)^2-100)"
      ]
     },
     "execution_count": 14,
     "metadata": {},
     "output_type": "execute_result"
    },
    {
     "data": {
      "text/latex": [
       "\\[\\tag{${\\it \\%o}_{34}$}10\\,\\sqrt{\\sec ^2\\vartheta-1}\\]"
      ],
      "text/plain": [
       "                                      2\n",
       "(%o34)                     10 sqrt(sec (theta) - 1)"
      ],
      "text/x-maxima": [
       "10*sqrt(sec(theta)^2-1)"
      ]
     },
     "execution_count": 14,
     "metadata": {},
     "output_type": "execute_result"
    }
   ],
   "source": [
    "f4(x):=sqrt((x+3)^2-100)$\n",
    "    f4(10*sec(theta)-3);\n",
    "    factor(f4(10*sec(theta)-3));"
   ]
  },
  {
   "cell_type": "markdown",
   "id": "50183741",
   "metadata": {},
   "source": [
    "Notice that $10\\sqrt{\\sec^2(\\theta)-1}=10\\tan(\\theta)$. Thus, by letting $x=10\\sec(\\theta)-3$ we have $$\\sqrt{(x+3)^2-100}=10\\tan(\\theta)$$"
   ]
  },
  {
   "cell_type": "code",
   "execution_count": 27,
   "id": "c2820614",
   "metadata": {},
   "outputs": [
    {
     "data": {
      "text/latex": [
       "\\[\\tag{${\\it \\%o}_{60}$}\\left[ x=\\frac{\\tan \\vartheta+10}{18} \\right] \\]"
      ],
      "text/plain": [
       "                                  tan(theta) + 10\n",
       "(%o60)                       [x = ---------------]\n",
       "                                        18"
      ],
      "text/x-maxima": [
       "[x = (tan(theta)+10)/18]"
      ]
     },
     "execution_count": 27,
     "metadata": {},
     "output_type": "execute_result"
    },
    {
     "data": {
      "text/latex": [
       "\\[\\tag{${\\it \\%o}_{61}$}\\sqrt{4\\,\\left(\\frac{\\tan \\vartheta+10}{2}-5\\right)^2+1}\\]"
      ],
      "text/plain": [
       "                              tan(theta) + 10     2\n",
       "(%o61)                sqrt(4 (--------------- - 5)  + 1)\n",
       "                                     2"
      ],
      "text/x-maxima": [
       "sqrt(4*((tan(theta)+10)/2-5)^2+1)"
      ]
     },
     "execution_count": 27,
     "metadata": {},
     "output_type": "execute_result"
    },
    {
     "data": {
      "text/latex": [
       "\\[\\tag{${\\it \\%o}_{62}$}\\sqrt{\\tan ^2\\vartheta+1}\\]"
      ],
      "text/plain": [
       "                                     2\n",
       "(%o62)                       sqrt(tan (theta) + 1)"
      ],
      "text/x-maxima": [
       "sqrt(tan(theta)^2+1)"
      ]
     },
     "execution_count": 27,
     "metadata": {},
     "output_type": "execute_result"
    }
   ],
   "source": [
    "f5(x):=sqrt(4*(9*x-5)^2+1)$\n",
    "    solve((1/2)*tan(theta)=9*x-5,x);\n",
    "    f5((tan(theta)+10)/18);\n",
    "    factor(f5((tan(theta)+10)/18));"
   ]
  },
  {
   "cell_type": "markdown",
   "id": "a1090f5e",
   "metadata": {},
   "source": [
    "First, solve the equation: $$\\frac12\\tan(\\theta)=9x-5$$ to get $x=\\frac{\\tan(\\theta)+10}{18}$. Then we notice that $\\sqrt{\\tan^2(\\theta)+1}=\\sec(\\theta)$. Thus, with $x=\\frac{\\tan(\\theta)+10}{18}$, we have, $$\\sqrt{4(9x-5)^2+1}=\\sec(\\theta)$$"
   ]
  },
  {
   "cell_type": "markdown",
   "id": "735872b8",
   "metadata": {},
   "source": [
    "Use a trig substitution to evaluat ethe given integral. $$\\int \\frac{\\sqrt{x^2+16}}{x^4}\\, dx$$"
   ]
  },
  {
   "cell_type": "code",
   "execution_count": 67,
   "id": "483edef2",
   "metadata": {},
   "outputs": [
    {
     "data": {
      "text/latex": [
       "\\[\\tag{${\\it \\%o}_{129}$}-\\frac{\\left(x^2+16\\right)^{\\frac{3}{2}}}{48\\,x^3}\\]"
      ],
      "text/plain": [
       "                                    2      3/2\n",
       "                                  (x  + 16)\n",
       "(%o129)                         - ------------\n",
       "                                         3\n",
       "                                     48 x"
      ],
      "text/x-maxima": [
       "-(x^2+16)^(3/2)/(48*x^3)"
      ]
     },
     "execution_count": 67,
     "metadata": {},
     "output_type": "execute_result"
    }
   ],
   "source": [
    "integrate(sqrt(x^2+16)/x^4,x);"
   ]
  },
  {
   "cell_type": "code",
   "execution_count": 39,
   "id": "1e7a09cf",
   "metadata": {},
   "outputs": [
    {
     "data": {
      "text/latex": [
       "\\[\\tag{${\\it \\%o}_{96}$}\\sqrt{16\\,\\tan ^2\\vartheta+16}\\]"
      ],
      "text/plain": [
       "                                      2\n",
       "(%o96)                     sqrt(16 tan (theta) + 16)"
      ],
      "text/x-maxima": [
       "sqrt(16*tan(theta)^2+16)"
      ]
     },
     "execution_count": 39,
     "metadata": {},
     "output_type": "execute_result"
    },
    {
     "data": {
      "text/latex": [
       "\\[\\tag{${\\it \\%o}_{97}$}4\\,\\sqrt{\\tan ^2\\vartheta+1}\\]"
      ],
      "text/plain": [
       "                                      2\n",
       "(%o97)                      4 sqrt(tan (theta) + 1)"
      ],
      "text/x-maxima": [
       "4*sqrt(tan(theta)^2+1)"
      ]
     },
     "execution_count": 39,
     "metadata": {},
     "output_type": "execute_result"
    }
   ],
   "source": [
    "Top(x):=sqrt(x^2+16)$\n",
    "    Top(4*tan(theta));\n",
    "    factor(Top(4*tan(theta)));"
   ]
  },
  {
   "cell_type": "markdown",
   "id": "e54e97dc",
   "metadata": {},
   "source": [
    "Notice that when $x=4\\tan(\\theta)$, we have $$\\sqrt{x^2+16}=4\\sec(\\theta)$$"
   ]
  },
  {
   "cell_type": "code",
   "execution_count": 60,
   "id": "c67f9be3",
   "metadata": {},
   "outputs": [
    {
     "data": {
      "text/latex": [
       "\\[\\tag{${\\it \\%o}_{121}$}\\frac{\\sec \\vartheta}{64\\,\\tan ^4\\vartheta}\\]"
      ],
      "text/plain": [
       "                                  sec(theta)\n",
       "(%o121)                         --------------\n",
       "                                      4\n",
       "                                64 tan (theta)"
      ],
      "text/x-maxima": [
       "sec(theta)/(64*tan(theta)^4)"
      ]
     },
     "execution_count": 60,
     "metadata": {},
     "output_type": "execute_result"
    },
    {
     "data": {
      "text/latex": [
       "\\[\\tag{${\\it \\%o}_{122}$}\\frac{\\cot ^3\\vartheta\\,\\csc \\vartheta}{64}\\]"
      ],
      "text/plain": [
       "                               3\n",
       "                            cot (theta) csc(theta)\n",
       "(%o122)                     ----------------------\n",
       "                                      64"
      ],
      "text/x-maxima": [
       "(cot(theta)^3*csc(theta))/64"
      ]
     },
     "execution_count": 60,
     "metadata": {},
     "output_type": "execute_result"
    }
   ],
   "source": [
    "(4*sec(theta))/((4*tan(theta))^4);\n",
    "trigreduce((4*sec(theta))/((4*tan(theta))^4));"
   ]
  },
  {
   "cell_type": "code",
   "execution_count": 62,
   "id": "eb14d128",
   "metadata": {},
   "outputs": [
    {
     "data": {
      "text/latex": [
       "\\[\\tag{${\\it \\%o}_{124}$}\\csc ^2x\\]"
      ],
      "text/plain": [
       "                                       2\n",
       "(%o124)                             csc (x)"
      ],
      "text/x-maxima": [
       "csc(x)^2"
      ]
     },
     "execution_count": 62,
     "metadata": {},
     "output_type": "execute_result"
    }
   ],
   "source": [
    "trigreduce((cot(x))^2+1);"
   ]
  },
  {
   "cell_type": "markdown",
   "id": "09e2f81a",
   "metadata": {},
   "source": [
    "So we have:\n",
    "\n",
    "$$\\int \\frac{\\sqrt{x^2+16}}{x^4}\\, dx= \\int\\frac{\\sec(\\theta)}{64\\tan^4(\\theta)}\\,dx$$\n",
    "\n",
    "Recall that $\\csc^2(\\xi)=\\cot^2(\\xi)+1$. That is,\n",
    "\n",
    "$$\\cot^3(\\theta)\\cdot \\csc(\\theta)=\\left(\\cot(\\theta)\\csc(\\theta)\\right)\\cdot \\cot^2(\\theta)$$\n",
    "\n",
    "$$\\left(\\cot(\\theta)\\csc(\\theta)\\right)\\cdot \\cot^2(\\theta) = \\left(\\cot(\\theta)\\csc(\\theta)\\right)\\cdot \\left(\\csc^2(\\theta)-1\\right)$$\n",
    "\n",
    "$$\\int\\frac{\\sec(\\theta)}{64\\tan^4(\\theta)}\\,dx = \\frac{1}{64} \\int \\left(\\cot(\\theta)\\csc(\\theta)\\right)\\cdot \\left(\\csc^2(\\theta)-1\\right)\\,d\\theta$$\n",
    "\n",
    "Let $u=\\csc(\\theta)$ and $du=\\cot(\\theta)\\csc(\\theta)$, then\n",
    "\n",
    "$$\\frac{1}{64} \\int \\left(\\cot(\\theta)\\csc(\\theta)\\right)\\cdot \\left(\\csc^2(\\theta)-1\\right)\\,d\\theta= \\frac{1}{64}\\int\\left(u^2-1\\right)\\,du$$"
   ]
  },
  {
   "cell_type": "code",
   "execution_count": 75,
   "id": "90042060",
   "metadata": {},
   "outputs": [
    {
     "data": {
      "text/latex": [
       "\\[\\tag{${\\it \\%o}_{142}$}{\\it IF}_{9}\\left(u\\right):=\\frac{u\\,\\left(u^2-3\\right)}{192}\\]"
      ],
      "text/plain": [
       "                                           2\n",
       "                                       u (u  - 3)\n",
       "(%o142)                      IF9(u) := ----------\n",
       "                                          192"
      ],
      "text/x-maxima": [
       "IF9(u):=(u*(u^2-3))/192"
      ]
     },
     "execution_count": 75,
     "metadata": {},
     "output_type": "execute_result"
    },
    {
     "data": {
      "text/latex": [
       "\\[\\tag{${\\it \\%o}_{143}$}\\frac{\\csc \\vartheta\\,\\left(\\csc ^2\\vartheta-3\\right)}{192}\\]"
      ],
      "text/plain": [
       "                                        2\n",
       "                         csc(theta) (csc (theta) - 3)\n",
       "(%o143)                  ----------------------------\n",
       "                                     192"
      ],
      "text/x-maxima": [
       "(csc(theta)*(csc(theta)^2-3))/192"
      ]
     },
     "execution_count": 75,
     "metadata": {},
     "output_type": "execute_result"
    }
   ],
   "source": [
    "IF9(u):=(u*(u^2-3)/192);\n",
    "IF9(csc(theta));"
   ]
  },
  {
   "cell_type": "markdown",
   "id": "91997f3b",
   "metadata": {},
   "source": [
    "## Partial Fractions\n",
    "|Factor in Denominator|Term in Partial Fraction Decomposition|\n",
    "|:------:|:-----------------------:|\n",
    "|$$ax+b$$|$$\\dfrac{A}{ax+b}$$|\n",
    "|$$(ax+b)^k$$|$$\\dfrac{A_1}{ax+b}+\\dfrac{A_2}{(ax+b)^2}+\\cdots+\\dfrac{A_k}{(ax+b)^k},\\,k=1,2,3,...$$|\n",
    "|$$(ax^2+bx+c)^k$$|$$\\dfrac{A_1x+B_1}{ax^2+bx+c}+\\dfrac{A_2x+B_2}{(ax^2+bx+c)^2}+\\cdots+\\dfrac{A_kx+B_k}{(ax^2+bx+c)^k},\\,k=1,2,3,...$$"
   ]
  },
  {
   "cell_type": "markdown",
   "id": "009016ee",
   "metadata": {},
   "source": [
    "## Improper Integrals\n",
    "1. If $\\int_a ^tf(x)\\,dx$ exists for every $t>a$, then $$\\int_a^{\\infty}f(x)\\,dx=\\lim_{t\\to\\infty}\\int_a^tf(x)\\,dx$$ Provided the limit exists and is finite.\n",
    "2. If $\\int_t ^bf(x)\\,dx$ exists for every $b>t$, then $$\\int_{-\\infty}^bf(x)\\,dx=\\lim_{t\\to\\infty}\\int_t^bf(x)\\,dx$$ Provided the limit exists and is finite.\n",
    "3. If $\\int_{-\\infty}^{c}f(x)\\,dx$ and $\\int_{c}^{\\infty}f(x)\\,dx$ are both convergent, then $$\\int_{-\\infty}^{\\infty}f(x)\\,dx=$\\int_{-\\infty}^{c}f(x)\\,dx+\\int_{c}^{\\infty}f(x)\\,dx$$ where $c$ is any number.\n",
    "4. If $f(x)$ is continuous on the interval $[a,b)$ and not continuous at $x=b$, then $$\\int_a^bf(x)\\,dx=\\lim_{x\\to b^-}\\int_a^tf(x)\\,dx$$ provied the limit exists and is finite.\n",
    "5. If $f(x)$ is continuous on the interval $(a,b]$ and not continuous at $x=a$, then $$\\int_a^bf(x)\\,dx=\\lim_{t\\to a^+}\\int_t^bf(x)\\,dx$$ provided the limit exists and is finite.\n",
    "6. If $f(x)$ is not continuous at $x=c$ where $a<c<b$ and $\\int_a^cf(x)\\,dx$ and $\\int_c^bf(x)\\,dx$ are both convergent, then $$\\int_a^bf(x)\\,dx=\\int_a^cf(x)\\,dx+\\int_c^bf(x)\\,dx$$\n",
    "7. If f(x) is not continuous at $x=a$ and $x=b$ and if $\\int_a^cf(x)\\,dx$ and $\\int_c^bf(x)\\,dx$ are both convergent, then $$\\int_a^bf(x)\\,dx=\\int_a^cf(x)\\,dx+\\int_c^bf(x)\\,dx$$ where $c$ is any number.\n",
    "\n",
    "Note for number 3: the integral $\\int_{-\\infty}^{\\infty}f(x)\\,dx$ is convergent if and only if $\\int_{-\\infty}^cf(x)\\,dx$ and $\\int_c^{\\infty}f(x)\\,dx$ are both convergent."
   ]
  },
  {
   "cell_type": "markdown",
   "id": "fa92b932",
   "metadata": {},
   "source": [
    "### Comparison Test\n",
    "\n",
    "---\n",
    "If $a>0$ then $$\\int_a^{\\infty}\\dfrac{1}{x^p}\\,dx$$ is convergent if $p>1$ and divergent if $p\\le1$.\n",
    "\n",
    "---\n",
    "If $f(x)\\ge g(x)\\ge 0$ on the interval $[a,\\infty)$, then\n",
    "1. If $\\int_a^{\\infty}f(x)\\,dx$ converges then so does $\\int_a^{\\infty}g(x)\\,dx$.\n",
    "2. If $\\int_a^{\\infty}g(x)\\,dx$ diverges then so does $\\int_a^{\\infty}f(x)\\,dx$."
   ]
  },
  {
   "cell_type": "markdown",
   "id": "ca9f23ef",
   "metadata": {},
   "source": [
    "### L'Hospital's Rule\n",
    "Suppose ${\\displaystyle \\lim_{x\\to a}|f(x)|=\\lim_{x\\to a}|g(x)|=\\infty}$ or $\\displaystyle \\lim_{x\\to a}f(x)=\\lim_{x\\to a}g(x)=0$.\n",
    "If ${\\displaystyle \\lim_{x\\to a}\\dfrac{f'(x)}{g'(x)}}$ exists in\n",
    "either the finite or infinite sense, then\n",
    "$$\n",
    "\\lim_{x\\to a}\\dfrac{f(x)}{g(x)}=\\lim_{x\\to a}\\dfrac{f'(x)}{g'(x)}.\n",
    "$$"
   ]
  },
  {
   "cell_type": "markdown",
   "id": "fbf5610c",
   "metadata": {},
   "source": [
    "### Average Function Value\n",
    "The average value of a function $f(x)$ over the interval $[a,b]$ is given by $$f_{ave}=dfrac{1}{b-a}\\int_a^bf(x)\\,dx$$"
   ]
  },
  {
   "cell_type": "markdown",
   "id": "6dd1ab41",
   "metadata": {},
   "source": [
    "### The Mean Value Theorem for Integrals\n",
    "If $f(x)$ is continuous function on $[a,b]$ then there is a number $c\\in[a,b]$ such that $$\\int_a^bf(x)\\,dx=f(c)(b-a)$$"
   ]
  },
  {
   "cell_type": "markdown",
   "id": "5bef3b58",
   "metadata": {},
   "source": [
    "### Arc Length\n",
    "If $f'$ is continuous on $[a,b]$, then the length (arc length) of the curve $y=f(x)$ from the point $A=(a,f(a))$ to the point $B=(b,f(b))$ is the value of the integral $$L=\\int_a^b\\sqrt{1+\\left[f'(x)\\right]^2}\\,dx=\\int_a^b\\sqrt{1+\\left[ \\frac{dy}{dx} \\right]^2}$$\n"
   ]
  },
  {
   "cell_type": "markdown",
   "id": "d78198b6",
   "metadata": {},
   "source": [
    "### Volume by Disks for Rotation About the x-Axis\n",
    "Let $A(x)=\\pi(R(x))^2$ where $R(x)$ is a function of the radius of the circle over the domain $x$. The Volume of the object is then $$V=\\int_a^bA(x)\\,dx$$"
   ]
  },
  {
   "cell_type": "markdown",
   "id": "05c01799",
   "metadata": {},
   "source": [
    "### EXAMPLE (Volume by Disks for Rotation)\n",
    "The region between the curve $y=\\cos(x)$,$\\frac{\\pi}{4}\\le x\\le \\frac{3\\pi}{4}$, and the x-axis is revolved about the x-axis to generate a solid. Find its volume.\n",
    "\n",
    "---\n",
    "First, look at the graph:"
   ]
  },
  {
   "cell_type": "code",
   "execution_count": 4,
   "id": "c6cc13b7",
   "metadata": {},
   "outputs": [
    {
     "data": {
      "text/html": [
       "<iframe src=\"https://www.geogebra.org/3d/hapxqvpr?embed\" width=\"400\" height=\"400\" allowfullscreen style=\"border: 1px solid #e4e4e4;border-radius: 4px;\" frameborder=\"0\"></iframe>\n"
      ],
      "text/plain": [
       "<IPython.core.display.HTML object>"
      ]
     },
     "metadata": {},
     "output_type": "display_data"
    }
   ],
   "source": [
    "%%html\n",
    "<iframe src=\"https://www.geogebra.org/3d/hapxqvpr?embed\" width=\"400\" height=\"400\" allowfullscreen style=\"border: 1px solid #e4e4e4;border-radius: 4px;\" frameborder=\"0\"></iframe>"
   ]
  },
  {
   "cell_type": "code",
   "execution_count": null,
   "id": "a7b8e66f",
   "metadata": {},
   "outputs": [],
   "source": []
  }
 ],
 "metadata": {
  "kernelspec": {
   "display_name": "Maxima",
   "language": "maxima",
   "name": "maxima"
  },
  "language_info": {
   "codemirror_mode": "maxima",
   "file_extension": ".mac",
   "mimetype": "text/x-maxima",
   "name": "maxima",
   "pygments_lexer": "maxima",
   "version": "5.45.1"
  }
 },
 "nbformat": 4,
 "nbformat_minor": 5
}
