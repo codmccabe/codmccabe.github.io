{
 "cells": [
  {
   "cell_type": "markdown",
   "metadata": {},
   "source": [
    "# Sequences and Series\n",
    "* [Home](https://codmccabe.github.io/index.html)\n",
    "* [Calc Home](https://codmccabe.github.io/calc/index.html)"
   ]
  },
  {
   "cell_type": "markdown",
   "metadata": {},
   "source": [
    "<a id='sequences'></a>\n",
    "## Sequence\n",
    "### Definition (Converges and Diverges)\n",
    "\n",
    "The sequence $\\{a_n\\}$ converges to the number $L$ if for every positive number $\\epsilon$ there corresponds an integer $N$ such that\n",
    "\n",
    "$$ |a_n-L|<\\epsilon \\text{ whenever } n>N$$\n",
    "\n",
    "If no such number $L$ exists, we say that $\\{a_n\\}$ diverges.\n",
    "\n",
    "If $\\{a_n\\}$ converges to $L$, we write\n",
    "\n",
    "$$\\lim_{n\\to \\infty}a_n=L \\text{ or } a_n\\to L$$\n",
    "\n",
    "and call $L$ the limit of the sequence.\n",
    "\n",
    "### Definition (Diverges to $\\pm \\infty$\n",
    "If for every number $M$ there exists an $N$ such that for all $n>N$ we have $a_n>M$, then the sequence $\\{a_n\\}$ diverges to infinity. This is denoted by:\n",
    "\n",
    "$$\\lim_{n\\to\\infty}a_n=\\infty \\text{ or } a_n\\to \\infty $$"
   ]
  },
  {
   "cell_type": "code",
   "execution_count": null,
   "metadata": {},
   "outputs": [],
   "source": []
  }
 ],
 "metadata": {
  "kernelspec": {
   "display_name": "Maxima",
   "language": "maxima",
   "name": "maxima"
  },
  "language_info": {
   "codemirror_mode": "maxima",
   "file_extension": ".mac",
   "mimetype": "text/x-maxima",
   "name": "maxima",
   "pygments_lexer": "maxima",
   "version": "5.44.0"
  }
 },
 "nbformat": 4,
 "nbformat_minor": 4
}
