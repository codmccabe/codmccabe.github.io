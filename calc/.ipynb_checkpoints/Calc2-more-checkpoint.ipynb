{
 "cells": [
  {
   "cell_type": "markdown",
   "id": "539dde63",
   "metadata": {},
   "source": [
    "# More Stuff for Calc 2\n",
    "* [Home](https://codmccabe.github.io/)\n",
    "* [Calc Home](https://codmccabe.github.io/calc/)\n",
    "* [Polar Coordinates and stuff](#PolarCord)\n",
    "* Area and Length of polar coordinates\n",
    "* Conic"
   ]
  },
  {
   "cell_type": "markdown",
   "id": "1d823f99",
   "metadata": {},
   "source": [
    "<a id='PolarCord'></a>\n",
    "## Polar Coordinates\n",
    "---\n",
    "#### Equations Relating Polar and Cartesian Coordinates\n",
    "$$x=r\\cos(\\theta)\\, y=r\\sin(\\theta)\\, r^2=x^2+y^2\\, \\tan(\\theta)=\\frac{y}{x}$$\n",
    "\n",
    "#### Example of Catesian to Polar\n",
    "Find a polar question for the circle $x^2+(y-3)^2=9$.\n",
    "\n",
    "First, we want to expand the left hand side of the equation and hope that we can use the identities listed above. For example, we can anticipate $x^2+y^2$ as being present on the left hand side of the equation after we expand (use the distributive property) for the expression $(y-3)^2$. After we have grouped terms by there known polar to cartesian identities, we must also setup the equation to have all variables on one side of the equation and the constants on the other side of the equation. We hope that the left hand side of the equation can be completely replaced by $r$'s and trig functions and we have that the right hand side is zero. We then solve for $r$ (why we hope the right hand side is zero).\n",
    "\n",
    "1. We expand the left hand side of the equation:\n",
    "$$x^2+(y-3)^2 = x^2 + y^2 - 6y + 9$$\n",
    "2. We organize:\n",
    "$$\\left(x^2+y^2\\right) - 6\\cdot y +9$$\n",
    "3. We go back to the equation $x^2+(y-3)^2=9$ and subtract $9$ from both sides:\n",
    "$$\\left(x^2+y^2\\right) - 6\\cdot y +9 = 9 \\iff \\left(x^2+y^2\\right) - 6\\cdot y = 0$$\n",
    "4. We use the identities,$y=r\\sin(\\theta)$ and $r^2=x^2+y^2$, and we factor the $r$:\n",
    "$$\\left(x^2+y^2\\right) - 6\\cdot y = 0 \\iff r^2-6r\\sin(\\theta)=0\\iff r\\cdot \\left(r-6\\sin(\\theta)\\right)=0$$\n",
    "5. Since $\\sin(0)=0$ and solve the equation we have $r=0$ and $r=6\\sin(\\theta)$ we have the following that satisfies both equations\n",
    "$$r=6\\sin(\\theta).$$\n",
    "\n",
    "#### Evample of Polar to Catesian\n",
    "Replace the polar equation, $r=\\dfrac{4}{2\\cos(\\theta)-\\sin(\\theta)} by equivalent Cartesian equations.\n",
    "\n"
   ]
  },
  {
   "cell_type": "code",
   "execution_count": null,
   "id": "4186afc5",
   "metadata": {},
   "outputs": [],
   "source": []
  }
 ],
 "metadata": {
  "kernelspec": {
   "display_name": "Maxima",
   "language": "maxima",
   "name": "maxima"
  },
  "language_info": {
   "codemirror_mode": "maxima",
   "file_extension": ".mac",
   "mimetype": "text/x-maxima",
   "name": "maxima",
   "pygments_lexer": "maxima",
   "version": "5.45.1"
  }
 },
 "nbformat": 4,
 "nbformat_minor": 5
}
