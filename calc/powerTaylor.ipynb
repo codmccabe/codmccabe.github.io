{
 "cells": [
  {
   "cell_type": "code",
   "execution_count": 2,
   "id": "545a64bb-96e7-4bdc-b9be-732e72b8c3ad",
   "metadata": {},
   "outputs": [],
   "source": [
    "set_plot_option([svg_file, \"maxplot.svg\"])$"
   ]
  },
  {
   "cell_type": "markdown",
   "id": "f3fc3a93-e7d4-4fb4-b49f-e99f43dee4fb",
   "metadata": {},
   "source": [
    "# Power Series and Taylor Series\n",
    "* [Home](https://codmccabe.github.io/index.html)\n",
    "* [Calc Home](https://codmccabe.github.io/calc/index.html)\n",
    "* [Power Series](#power)\n",
    "* [Properties of Power Series](#propPower)\n",
    "* [Taylor Series](#taylor)\n",
    "* [Using Taylor Series](#usingTaylor)\n"
   ]
  },
  {
   "cell_type": "markdown",
   "id": "dda79d98-4e26-4750-b9d1-fcbcd5cd263b",
   "metadata": {},
   "source": [
    "<a id='power'></a>\n",
    "## Power Series\n",
    "* [Home](https://codmccabe.github.io/index.html)\n",
    "* [Calc Home](https://codmccabe.github.io/calc/index.html)\n",
    "* [Power Series](#power)\n",
    "* [Properties of Power Series](#propPower)\n",
    "* [Taylor Series](#taylor)\n",
    "* [Using Taylor Series](#usingTaylor)\n",
    "\n",
    "### Definition (Power Series)\n",
    "A series of the form\n",
    "$$ \\sum_{n=0}^{\\infty}c_nx^n = c_0 +c_1x+c_2x^2+\\cdots$$\n",
    "is a power series centered at $x=0$. A series of the form\n",
    "$$\\sum_{n=0}^{\\infty}c_n\\left(x-a\\right)^n = c_0+c_1(x-a)+c_2(x-a)^2+\\cdots$$\n",
    "is a power series centered at $x=a$.\n",
    "\n",
    "---\n",
    "### Definition (Factorial)\n",
    "Let $n$ be a natural number. Then $$n! = 1\\cdot 2\\cdot \\dots \\cdot (n-1)\\cdot n$$\n",
    "\n",
    "---\n",
    "### Theorem (Convergence of a Power Series)\n",
    "Consider the power series $\\sum_{n=0}^{\\infty}c_n(x-a)^n$. The series satisfies exactly one of the following properties:\n",
    "1. The sereis converges at $x=a$ and diverges for all $x\\ne a$.\n",
    "2. The series converges for all real numbers $x$.\n",
    "3. There exists a real number $R>0$ such that the series converges if $|x-a|<R$ and diverges if $|x-a|>R$. At the values $x$ where $|x-a|=R$, the series may converge or diverge.\n",
    "\n",
    "---\n",
    "### Definition (Radius of Converence)\n",
    "Consider the power series $\\sum_{n=0}^{\\infty}c_n(x-a)^n$. The set of real numbers $x$ where the series converges is the interval of convergence. If there exists a real number $R>0$ such that the series converges for $|x-a|<R$ and diverges for $|x-a|>R$, then $R$ is the radius of convergence. If the series converges only at $x=a$, we say the radius of convergence is $R=0$. If the series converges for all real numbers $x$, we say the radius of convergence is $R=\\infty$.\n",
    "\n",
    "---\n",
    "### Representing functions as Power Series\n",
    "\n",
    "$$1+x+x^2+x^3+\\cdots = \\sum_{n=0}^{\\infty}x^n$$\n",
    "and\n",
    "$$a+ar+ar^2+ar^3+\\cdots = \\frac{a}{1-r}$$\n",
    "by geometric series.\n",
    "Therefore, if $|x|<1$, the series $sum_{n=0}^{\\infty}x^n$ converges to $\\frac{1}{1-x}$ and\n",
    "$$1+x+x^2+\\cdots = \\sum_{n=0}^{\\infty}x^n = \\frac{1}{1-x}$$ for $|x|<1$.\n",
    "\n",
    "#### Example (Power Series for $\\frac{1}{1+x^3}$)\n",
    "Remember that the following $\\sum_{n=0}^{\\infty}x^n=\\frac{1}{1-x}$ convergs when $|x|<1$. \n",
    "\n",
    "Consider, $\\sum_{n=0}^{\\infty}(-x^3) = \\frac{1}{1-(-x^3)} = \\frac{1}{1+x^3}$ converges if and only if $|-x^3|<1$.\n",
    "\n",
    "#### Example (Power Series for $\\frac{x^2}{4-x^2}$)\n",
    "Remember from the Geometric Series:\n",
    "\n",
    "$$\\sum_{n=0}^{\\infty}ar^n = a+ar+ar^2+\\cdots = \\frac{a}{1-r},$$\n",
    "\n",
    "$$\\sum_{n=0}^{\\infty}\\left(x^2\\right)^n = \\sum_{n=0}^{\\infty}x^{2n} = \\frac{1}{1-x^2},$$\n",
    "\n",
    "$$\n",
    "\\begin{array}{rl}\n",
    "    \\frac{x^2}{4-x^2} & = \\frac{x^2}{4(1-\\frac{x^2}{4})}\\\\\n",
    "    & = \\frac{\\frac{x^2}{4}}{1-\\frac{x^2}{4}}\\\\\n",
    "    & = \\frac{\\frac{x^2}{4}}{1-\\left( \\frac{x}{2}\\right)^2}\\\\\n",
    "    & = \\frac{x^2}{4}\\cdot \\frac{1}{1-\\left(\\frac{x}{2}\\right)^2},\n",
    "\\end{array}\n",
    "$$\n",
    "\n",
    "and\n",
    "$$\\frac{x^2}{4}\\cdot \\frac{1}{1-\\left(\\frac{x}{2}\\right)^2} = \\frac{x^2}{4}\\cdot \\sum_{n=0}^{\\infty} \\left(\\frac{x}{2}\\right)^{2n} = \\sum_{n=0}^{\\infty}\\frac{x^2}{4}\\cdot \\left(\\frac{x}{2}\\right)^{2n}$$ where the series converges only if $\\left|\\left(\\frac{x}{2}\\right)^2\\right|<1$.\n",
    "\n",
    "---"
   ]
  },
  {
   "cell_type": "code",
   "execution_count": null,
   "id": "d87857fb-9f92-4907-abbc-13127b2d619c",
   "metadata": {},
   "outputs": [],
   "source": []
  },
  {
   "cell_type": "markdown",
   "id": "a9482bf2-dae5-44e3-81a2-6d07b6e10174",
   "metadata": {},
   "source": [
    "<a id='propPower'></a>\n",
    "## Properties of Power Series\n",
    "* [Home](https://codmccabe.github.io/index.html)\n",
    "* [Calc Home](https://codmccabe.github.io/calc/index.html)\n",
    "* [Power Series](#power)\n",
    "* [Properties of Power Series](#propPower)\n",
    "* [Taylor Series](#taylor)\n",
    "* [Using Taylor Series](#usingTaylor)"
   ]
  },
  {
   "cell_type": "markdown",
   "id": "4f2ecb94-fced-4b46-a993-12d07d32d0fb",
   "metadata": {},
   "source": [
    "<a id='taylor'></a>\n",
    "## Taylor Series\n",
    "* [Home](https://codmccabe.github.io/index.html)\n",
    "* [Calc Home](https://codmccabe.github.io/calc/index.html)\n",
    "* [Power Series](#power)\n",
    "* [Properties of Power Series](#propPower)\n",
    "* [Taylor Series](#taylor)\n",
    "* [Using Taylor Series](#usingTaylor)"
   ]
  },
  {
   "cell_type": "markdown",
   "id": "2bd30c4d-1a06-4dce-973d-5f72b22ba239",
   "metadata": {},
   "source": [
    "<a id='usingTaylor'></a>\n",
    "## Using Taylor Series\n",
    "* [Home](https://codmccabe.github.io/index.html)\n",
    "* [Calc Home](https://codmccabe.github.io/calc/index.html)\n",
    "* [Power Series](#power)\n",
    "* [Properties of Power Series](#propPower)\n",
    "* [Taylor Series](#taylor)\n",
    "* [Using Taylor Series](#usingTaylor)"
   ]
  },
  {
   "cell_type": "code",
   "execution_count": null,
   "id": "8e6c32ca-6d2f-48e5-9868-b0120401e951",
   "metadata": {},
   "outputs": [],
   "source": []
  }
 ],
 "metadata": {
  "kernelspec": {
   "display_name": "Maxima",
   "language": "maxima",
   "name": "maxima"
  },
  "language_info": {
   "codemirror_mode": "maxima",
   "file_extension": ".mac",
   "mimetype": "text/x-maxima",
   "name": "maxima",
   "pygments_lexer": "maxima",
   "version": "5.45.1"
  }
 },
 "nbformat": 4,
 "nbformat_minor": 5
}
