{
 "cells": [
  {
   "cell_type": "markdown",
   "id": "4fc04879-670d-4257-88e8-41872aae6f67",
   "metadata": {},
   "source": [
    "# Limits Part One\n"
   ]
  }
 ],
 "metadata": {
  "kernelspec": {
   "display_name": "Maxima",
   "language": "maxima",
   "name": "maxima"
  },
  "language_info": {
   "codemirror_mode": "maxima",
   "file_extension": ".mac",
   "mimetype": "text/x-maxima",
   "name": "maxima",
   "pygments_lexer": "maxima",
   "version": "5.45.1"
  }
 },
 "nbformat": 4,
 "nbformat_minor": 5
}
