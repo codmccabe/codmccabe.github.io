{
 "cells": [
  {
   "cell_type": "markdown",
   "metadata": {},
   "source": [
    "# Sequences and Series\n",
    "* [Home](https://codmccabe.github.io/index.html)\n",
    "* [Calc Home](https://codmccabe.github.io/calc/index.html)\n",
    "* [Sequences](#sequences)\n",
    "    - [Properties of Sequences](#propSeq)\n",
    "    - [Bounded and Monotonic](#boundMono)\n",
    "* [Series](#series)"
   ]
  },
  {
   "cell_type": "markdown",
   "metadata": {
    "tags": []
   },
   "source": [
    "<a id='sequences'></a>\n",
    "## Sequence\n",
    "### Definition (Converges and Diverges)\n",
    "\n",
    "The sequence $\\{a_n\\}$ converges to the number $L$ if for every positive number $\\epsilon$ there corresponds an integer $N$ such that\n",
    "\n",
    "$$ |a_n-L|<\\epsilon \\text{ whenever } n>N$$\n",
    "\n",
    "If no such number $L$ exists, we say that $\\{a_n\\}$ diverges.\n",
    "\n",
    "If $\\{a_n\\}$ converges to $L$, we write\n",
    "\n",
    "$$\\lim_{n\\to \\infty}a_n=L \\text{ or } a_n\\to L$$\n",
    "\n",
    "and call $L$ the limit of the sequence.\n",
    "\n",
    "### Definition (Diverges to $\\pm \\infty$)\n",
    "If for every number $M$ there exists an $N$ such that for all $n>N$ we have $a_n>M$, then the sequence $\\{a_n\\}$ diverges to infinity. This is denoted by:\n",
    "\n",
    "$$\\lim_{n\\to\\infty}a_n=\\infty \\text{ or } a_n\\to \\infty $$\n",
    "\n",
    "Similarly, If for every $m$ there exists an $N$ such that for all $n>N$ we have $a_n<m$, then the sequence $\\{a_n\\}$ diverges to negative infinity. This is denoted by:\n",
    "\n",
    "$$\\lim_{n\\to \\infty}a_n = -\\infty \\text{ or } a_n\\to -\\infty. $$\n",
    "\n",
    "---"
   ]
  },
  {
   "cell_type": "markdown",
   "metadata": {},
   "source": [
    "* [Home](https://codmccabe.github.io/index.html)\n",
    "* [Calc Home](https://codmccabe.github.io/calc/index.html)\n",
    "* [Sequences](#sequences)\n",
    "* [Properties of Sequences](#propSeq)\n",
    "* [Bounded and Monotonic](#boundMono)"
   ]
  },
  {
   "cell_type": "markdown",
   "metadata": {},
   "source": [
    "<a id='propSeq'></a>\n",
    "## Properties of Sequences\n",
    "### Theorem (Law of Sequences)\n",
    "Let $\\{a_n\\}$ and $\\{b_n\\}$ be sequences of real numbers, and let $A$ and $B$ be real numbers. The following rules hold if\n",
    "$$ \\lim_{n\\to \\infty}a_n=A \\text{ and } \\lim_{n\\to \\infty}b_n=B$$\n",
    "1. $\\lim_{n\\to \\infty}\\left(a_n \\pm b_n\\right)= \\lim_{n\\to \\infty}a_n\\pm \\lim_{n\\to \\infty}b_n$\n",
    "2. $\\lim_{n\\to \\infty}k\\cdot a_n = k\\cdot A$ where $k$ is some real number.\n",
    "3. $\\lim_{n\\to \\infty}\\left(a_n\\cdot b_n\\right)= A\\cdot B$\n",
    "4. $\\lim_{n\\to \\infty}\\dfrac{a_n}{b_n} = \\dfrac{A}{B}$ provided $B\\ne 0$\n",
    "\n",
    "---\n",
    "\n",
    "### Theorem (Squeeze Theorem)\n",
    "Let $\\{a_n\\}$, $\\{b_n\\}$, and $\\{c_n\\}$ be sequences of real numbers. If $a_n\\le b_n\\le c_n$ hold for for all $n>N$ where $N$ is some natural number and \n",
    "$$\\lim_{n\\to \\infty}a_n=\\lim_{n\\to \\infty}c_n=L$$\n",
    "then \n",
    "$$\\lim_{n\\to \\infty}b_n=L.$$\n",
    "\n",
    "---\n",
    "### Theorem (Continuous Function)\n",
    "Let $\\{a_n\\}$ be a seqeunce of real numbers. If $a_n\\to L$ and if $f$ is a function that is continuous at $L$ and defined at all $a_n$, then $$f(a_n)\\to f(L)$$\n",
    "\n",
    "---\n",
    "\n",
    "### Theorem\n",
    "Suppose that $f(x)$ is a function defined for all $x\\ge n_0$ and that $\\{a_n\\}$ is a  sequence of real numbers such that $a_n=f(n)$ for $n\\ge n_0$. Then \n",
    "$$\\lim_{n\\to \\infty}a_n=L \\text{ whenever } \\lim_{n\\to \\infty}f(x)=L $$\n",
    "\n",
    "---\n",
    "\n",
    "### Theorem (Popular Functions)\n",
    "The following six sequences converges to the limit listed below:\n",
    "1. $\\lim_{n\\to \\infty}\\frac{\\ln(n)}{n}=0$\n",
    "2. $\\lim_{n\\to \\infty}\\sqrt[n]{n}=1$\n",
    "3. $\\lim_{n\\to \\infty}x^{\\frac{1}{n}}=1$ provided $x>0$ and fixed\n",
    "4. $\\lim_{n\\to \\infty}x^n=0$ provided $-1<x<1$ and fixed\n",
    "5. $\\lim_{n\\to \\infty}\\left( 1+\\frac{x}{n} \\right)^n = e^x$ for any fixed $x$ \n",
    "6. $\\lim_{n\\to \\infty}\\dfrac{x^n}{n!}=0$ for any fixed $x$\n",
    "\n",
    "---\n",
    "### Definition (Factorial)\n",
    "Let $n$ be a natural number\n",
    "$$n! = 1\\cdot 2\\cdot 3\\cdot \\cdots \\cdot n$$\n",
    "A useful properties is $$(n+1)! = (n+1)\\cdot n!$$"
   ]
  },
  {
   "cell_type": "markdown",
   "metadata": {},
   "source": [
    "* [Home](https://codmccabe.github.io/index.html)\n",
    "* [Calc Home](https://codmccabe.github.io/calc/index.html)\n",
    "* [Sequences](#sequences)\n",
    "* [Properties of Sequences](#propSeq)\n",
    "* [Bounded and Monotonic](#boundMono)"
   ]
  },
  {
   "cell_type": "markdown",
   "metadata": {},
   "source": [
    "<a id='bondMono'></a>\n",
    "## Bounded and Monotonic\n",
    "### Definition\n",
    "A sequence $\\{a_n\\}$ is bounded from above if there exists a number $M$ such that $a_n\\le M$ for all $n$. The number $M$ is an upper bound for $\\{a_n\\}$. If $M$ is an upper bound for $\\{a_n\\}$ but no number less than $M$ is an upper bound for $\\{a_n\\}$, then $M$ is the least upper bound for $\\{a_n\\}$.\n",
    "\n",
    "A seqeunce $\\{a_n\\}$ is bounded from below if there exists a number $m$ such that $a_n\\ge m$ or all $n$. The number $m$ is a ower bound of $\\{a_n\\}$. If $m$ is a lower bound for $\\{a_n\\}$ but no number greater that $m$ is a lower bound for $\\{a_n\\}$, then $m$ is the greatest lower bound for $\\{a_n\\}$.\n",
    "\n",
    "If $\\{a_n\\}$ is bounded from above and below, then $\\{a_n\\}$ is bounded. If $\\{a_n\\}$ is not bounded, then we say that $\\{a_n\\}$ is an unbounded sequence.\n",
    "\n",
    "### Definition\n",
    "A sequence $\\{a_n\\}$ is increasing (nondecreasing) if $a_n\\le a_{n+1}$ for all $n$. That is,\n",
    "\n",
    "$$a_1\\le a_2\\le a_3\\le \\cdots $$\n",
    "\n",
    "The sequence is decreasing (nonincreasing) if $a_n\\ge a_{n+1}$ for all $n$. That is,\n",
    "\n",
    "$$a_1 \\ge a_2 \\ge a_3 \\ge \\cdots $$\n",
    "\n",
    "---\n",
    "\n",
    "### Theorem (Monotonic Sequence Theorem)\n",
    "If a sequence $\\{a_n\\}$ is both bounded and monotonic, then the sequence converges.\n"
   ]
  },
  {
   "cell_type": "markdown",
   "metadata": {},
   "source": [
    "* [Home](https://codmccabe.github.io/index.html)\n",
    "* [Calc Home](https://codmccabe.github.io/calc/index.html)\n",
    "* [Sequences](#sequences)\n",
    "* [Properties of Sequences](#propSeq)\n",
    "* [Bounded and Monotonic](#boundMono)"
   ]
  },
  {
   "cell_type": "markdown",
   "metadata": {},
   "source": [
    "<a id='series'></a>\n",
    "## Series\n",
    "\n",
    "### Theorem\n",
    "If $\\sum a_n$ converges, then $\\lim_{x\\to \\infty }a_n = 0$.\n",
    "\n",
    "#### NOTE\n",
    "The previous theorem does not state:\n",
    "If $\\lim_{x\\to \\infty}a_n=0$, then $\\sum a_n$ converges.\n",
    "This is a false statement.\n",
    "\n",
    "However, the contrapositive of the theorem is true:\n",
    "### Theorem (Divergence Test)\n",
    "If $\\lim_{x\\to \\infty}a_n \\ne 0, then $\\sum a_n$ will diverge.\n",
    "\n",
    "---\n",
    "### Definition (Conditional and Absolute Convergence)\n",
    "A series $\\sum a_n$ is said to be absolutely convergent if $\\sum |a_n|$ also converges.\n",
    "\n",
    "If $\\sum a_n$ converges but $\\sum |a_n|$ diverges, then we say $\\sum a_n$ converges conditionally.\n",
    "\n",
    "---\n",
    "\n",
    "\n"
   ]
  },
  {
   "cell_type": "code",
   "execution_count": null,
   "metadata": {},
   "outputs": [],
   "source": []
  }
 ],
 "metadata": {
  "kernelspec": {
   "display_name": "Maxima",
   "language": "maxima",
   "name": "maxima"
  },
  "language_info": {
   "codemirror_mode": "maxima",
   "file_extension": ".mac",
   "mimetype": "text/x-maxima",
   "name": "maxima",
   "pygments_lexer": "maxima",
   "version": "5.45.1"
  }
 },
 "nbformat": 4,
 "nbformat_minor": 4
}
