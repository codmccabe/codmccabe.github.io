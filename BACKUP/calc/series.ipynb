{
 "cells": [
  {
   "cell_type": "code",
   "execution_count": 1,
   "metadata": {},
   "outputs": [],
   "source": [
    "set_plot_option([svg_file, \"maxplot.svg\"])$"
   ]
  },
  {
   "cell_type": "markdown",
   "metadata": {},
   "source": [
    "# Series\n",
    "* [Home](https://codmccabe.github.io/index.html)\n",
    "* [Calc Home](https://codmccabe.github.io/calc/index.html)\n",
    "* [Intro](#intro)\n",
    "* [Divergence and Integral Test](#diverg)\n",
    "* [Comparison Tests](#compar)\n",
    "* [Alternating Series](#altern)\n",
    "* [Ratio and Root Tests](#ratioRoot)\n"
   ]
  },
  {
   "cell_type": "markdown",
   "metadata": {},
   "source": [
    "<a id='intro'></a>\n",
    "## Intro\n",
    "* [Home](https://codmccabe.github.io/index.html)\n",
    "* [Calc Home](https://codmccabe.github.io/calc/index.html)\n",
    "* [Intro](#intro)\n",
    "* [Divergence and Integral Test](#diverg)\n",
    "* [Comparison Tests](#compar)\n",
    "* [Alternating Series](#altern)\n",
    "* [Ratio and Root Tests](#ratioRoot)\n",
    "\n",
    "### Definition (Series)\n",
    "An infinite series is a sume of infinitely many terms and is written in the form $$\\sum_{n=1}^{\\infty}a_n = a_1 +a_2 +\\cdots$$\n",
    "and the parital sum of an infinite series is $$S_k = \\sum_{n=1}^k a_n = a_1+a_2+\\cdots +a_k$$\n",
    "\n",
    "The partial sum form a sequence $\\{S_k\\}$. If the sequence of partial sums converges to a real number $S$, the infinite series converges. \n",
    "\n",
    "If we can describe the convergence of a series to $S$, we call $S$ the sum of the series, and we write\n",
    "\n",
    "$$\\sum_{n=1}^{\\infty}a_n=S$$\n",
    "\n",
    "If the sequence of partial sums diverges, we have the divergence of a series.\n",
    "\n",
    "---\n",
    "### Definition (Harmonic Series)\n",
    "The harmonic series is defined as $$\\sum_{n=1}^{\\infty}\\frac{1}{n}=1+\\frac{1}{2}+\\frac13+\\cdots$$\n",
    "\n",
    "---\n",
    "### Algebraic Properties of Convergent Series\n",
    "\n",
    "$\\newcommand{\\SUM}[2]{\\sum_{n=1}^{#1}\\left(#2\\right)}$\n",
    "Let $\\SUM{\\infty}{a_n}$ and $\\SUM{\\infty}{b_n}$ be convegent series. Then the following algebraic properties hold.\n",
    "1. The series $\\SUM{\\infty}{a_n\\pm b_n}$ converges and $\\SUM{\\infty}{a_n\\pm b_n}=\\SUM{\\infty}{a_n}\\pm \\SUM{\\infty}{b_n}$\n",
    "2. For any real number $c$, the series $\\SUM{\\infty}{ca_n}$ converges and $\\SUM{\\infty}{ca_n}=c\\SUM{\\infty}{a_n}$\n",
    "\n",
    "---\n",
    "### Defintion (Geometric Series)\n",
    "A geometric series is a series of the form \n",
    "\n",
    "$$\\SUM{\\infty}{ar^{n-1}}=a+ar+ar^2+ar^3+\\cdots$$\n",
    "* If $|r|<1$, the eries converges, and \n",
    "\n",
    "$$\\SUM{\\infty}{ar^{n-1}}=\\frac{a}{1-r}$$ were $|r|<1$.\n",
    "* If $|r|>1$, the series diverges.\n",
    "\n",
    "---\n",
    "### Definition (Telescoping Series)\n",
    "A telescoping series is a series in which most of the terms cancel in each of the partial sums, leaving only some of the first terms and some of the last terms. For example:\n",
    "$$\\SUM{k}{b_n-b_{n+1}} = b_1-b_{k+1}$$\n",
    "\n",
    "---\n"
   ]
  },
  {
   "cell_type": "code",
   "execution_count": 2,
   "metadata": {},
   "outputs": [
    {
     "data": {
      "text/latex": [
       "\\[\\tag{${\\it \\%o}_{2}$}5\\]"
      ],
      "text/plain": [
       "(%o2)                                  5"
      ],
      "text/x-maxima": [
       "5"
      ]
     },
     "execution_count": 2,
     "metadata": {},
     "output_type": "execute_result"
    },
    {
     "data": {
      "text/latex": [
       "\\[\\tag{${\\it \\%o}_{3}$}5\\]"
      ],
      "text/plain": [
       "(%o3)                                  5"
      ],
      "text/x-maxima": [
       "5"
      ]
     },
     "execution_count": 2,
     "metadata": {},
     "output_type": "execute_result"
    },
    {
     "data": {
      "text/latex": [
       "\\[\\tag{${\\it \\%o}_{4}$}{{15}\\over{16}}\\]"
      ],
      "text/plain": [
       "                                      15\n",
       "(%o4)                                 --\n",
       "                                      16"
      ],
      "text/x-maxima": [
       "15/16"
      ]
     },
     "execution_count": 2,
     "metadata": {},
     "output_type": "execute_result"
    },
    {
     "data": {
      "text/latex": [
       "\\[\\tag{${\\it \\%o}_{5}$}{{15}\\over{16}}\\]"
      ],
      "text/plain": [
       "                                      15\n",
       "(%o5)                                 --\n",
       "                                      16"
      ],
      "text/x-maxima": [
       "15/16"
      ]
     },
     "execution_count": 2,
     "metadata": {},
     "output_type": "execute_result"
    },
    {
     "data": {
      "image/svg+xml": [
       "<?xml version=\"1.0\" encoding=\"utf-8\"  standalone=\"no\"?>\n",
       "<svg \n",
       " width=\"600\" height=\"480\"\n",
       " viewBox=\"0 0 600 480\"\n",
       " xmlns=\"http://www.w3.org/2000/svg\"\n",
       " xmlns:xlink=\"http://www.w3.org/1999/xlink\"\n",
       ">\n",
       "\n",
       "<title>Gnuplot</title>\n",
       "<desc>Produced by GNUPLOT 5.2 patchlevel 8 </desc>\n",
       "\n",
       "<g id=\"gnuplot_canvas\">\n",
       "\n",
       "<rect x=\"0\" y=\"0\" width=\"600\" height=\"480\" fill=\"none\"/>\n",
       "<defs>\n",
       "\n",
       "\t<circle id='gpDot' r='0.5' stroke-width='0.5' stroke='currentColor'/>\n",
       "\t<path id='gpPt0' stroke-width='0.190' stroke='currentColor' d='M-1,0 h2 M0,-1 v2'/>\n",
       "\t<path id='gpPt1' stroke-width='0.190' stroke='currentColor' d='M-1,-1 L1,1 M1,-1 L-1,1'/>\n",
       "\t<path id='gpPt2' stroke-width='0.190' stroke='currentColor' d='M-1,0 L1,0 M0,-1 L0,1 M-1,-1 L1,1 M-1,1 L1,-1'/>\n",
       "\t<rect id='gpPt3' stroke-width='0.190' stroke='currentColor' x='-1' y='-1' width='2' height='2'/>\n",
       "\t<rect id='gpPt4' stroke-width='0.190' stroke='currentColor' fill='currentColor' x='-1' y='-1' width='2' height='2'/>\n",
       "\t<circle id='gpPt5' stroke-width='0.190' stroke='currentColor' cx='0' cy='0' r='1'/>\n",
       "\t<use xlink:href='#gpPt5' id='gpPt6' fill='currentColor' stroke='none'/>\n",
       "\t<path id='gpPt7' stroke-width='0.190' stroke='currentColor' d='M0,-1.33 L-1.33,0.67 L1.33,0.67 z'/>\n",
       "\t<use xlink:href='#gpPt7' id='gpPt8' fill='currentColor' stroke='none'/>\n",
       "\t<use xlink:href='#gpPt7' id='gpPt9' stroke='currentColor' transform='rotate(180)'/>\n",
       "\t<use xlink:href='#gpPt9' id='gpPt10' fill='currentColor' stroke='none'/>\n",
       "\t<use xlink:href='#gpPt3' id='gpPt11' stroke='currentColor' transform='rotate(45)'/>\n",
       "\t<use xlink:href='#gpPt11' id='gpPt12' fill='currentColor' stroke='none'/>\n",
       "\t<path id='gpPt13' stroke-width='0.190' stroke='currentColor' d='M0,1.330 L1.265,0.411 L0.782,-1.067 L-0.782,-1.076 L-1.265,0.411 z'/>\n",
       "\t<use xlink:href='#gpPt13' id='gpPt14' fill='currentColor' stroke='none'/>\n",
       "\t<filter id='textbox' filterUnits='objectBoundingBox' x='0' y='0' height='1' width='1'>\n",
       "\t  <feFlood flood-color='white' flood-opacity='1' result='bgnd'/>\n",
       "\t  <feComposite in='SourceGraphic' in2='bgnd' operator='atop'/>\n",
       "\t</filter>\n",
       "\t<filter id='greybox' filterUnits='objectBoundingBox' x='0' y='0' height='1' width='1'>\n",
       "\t  <feFlood flood-color='lightgrey' flood-opacity='1' result='grey'/>\n",
       "\t  <feComposite in='SourceGraphic' in2='grey' operator='atop'/>\n",
       "\t</filter>\n",
       "</defs>\n",
       "<g fill=\"none\" color=\"white\" stroke=\"currentColor\" stroke-width=\"1.00\" stroke-linecap=\"butt\" stroke-linejoin=\"miter\">\n",
       "</g>\n",
       "<g fill=\"none\" color=\"black\" stroke=\"currentColor\" stroke-width=\"1.00\" stroke-linecap=\"butt\" stroke-linejoin=\"miter\">\n",
       "\t<path stroke='black'  d='M93.7,38.0 L93.7,395.9 L570.8,395.9 L570.8,38.0 L93.7,38.0 Z  '/></g>\n",
       "<g fill=\"none\" color=\"black\" stroke=\"currentColor\" stroke-width=\"1.00\" stroke-linecap=\"butt\" stroke-linejoin=\"miter\">\n",
       "\t<g transform=\"translate(22.2,217.0) rotate(270)\" stroke=\"none\" fill=\"black\" font-family=\"Arial\" font-size=\"14.00\"  text-anchor=\"middle\">\n",
       "\t\t<text>y</text>\n",
       "\t</g>\n",
       "</g>\n",
       "<g fill=\"none\" color=\"black\" stroke=\"currentColor\" stroke-width=\"1.00\" stroke-linecap=\"butt\" stroke-linejoin=\"miter\">\n",
       "\t<g transform=\"translate(332.2,453.0)\" stroke=\"none\" fill=\"black\" font-family=\"Arial\" font-size=\"14.00\"  text-anchor=\"middle\">\n",
       "\t\t<text>x</text>\n",
       "\t</g>\n",
       "</g>\n",
       "<g fill=\"none\" color=\"black\" stroke=\"currentColor\" stroke-width=\"1.00\" stroke-linecap=\"butt\" stroke-linejoin=\"miter\">\n",
       "</g>\n",
       "\t<g id=\"gnuplot_plot_1\" ><title>gnuplot_plot_1</title>\n",
       "<g fill=\"none\" color=\"black\" stroke=\"currentColor\" stroke-width=\"1.00\" stroke-linecap=\"butt\" stroke-linejoin=\"miter\">\n",
       "\t<use xlink:href='#gpPt6' transform='translate(93.7,38.0) scale(7.88)' color='rgb(  0,   0, 255)'/>\n",
       "\t<use xlink:href='#gpPt6' transform='translate(252.7,236.8) scale(7.88)' color='rgb(  0,   0, 255)'/>\n",
       "\t<use xlink:href='#gpPt6' transform='translate(411.8,336.2) scale(7.88)' color='rgb(  0,   0, 255)'/>\n",
       "\t<use xlink:href='#gpPt6' transform='translate(570.8,386.0) scale(7.88)' color='rgb(  0,   0, 255)'/>\n",
       "</g>\n",
       "\t</g>\n",
       "<g fill=\"none\" color=\"black\" stroke=\"currentColor\" stroke-width=\"1.00\" stroke-linecap=\"butt\" stroke-linejoin=\"miter\">\n",
       "\t<path stroke='black'  d='M93.7,395.9 L104.2,395.9 M570.8,395.9 L560.3,395.9  '/>\t<g transform=\"translate(84.0,400.5)\" stroke=\"none\" fill=\"black\" font-family=\"Arial\" font-size=\"14.00\"  text-anchor=\"end\">\n",
       "\t\t<text><tspan font-family=\"Arial\" > 0.05</tspan></text>\n",
       "\t</g>\n",
       "</g>\n",
       "<g fill=\"none\" color=\"black\" stroke=\"currentColor\" stroke-width=\"1.00\" stroke-linecap=\"butt\" stroke-linejoin=\"miter\">\n",
       "\t<path stroke='black'  d='M93.7,356.1 L104.2,356.1 M570.8,356.1 L560.3,356.1  '/>\t<g transform=\"translate(84.0,360.7)\" stroke=\"none\" fill=\"black\" font-family=\"Arial\" font-size=\"14.00\"  text-anchor=\"end\">\n",
       "\t\t<text><tspan font-family=\"Arial\" > 0.1</tspan></text>\n",
       "\t</g>\n",
       "</g>\n",
       "<g fill=\"none\" color=\"black\" stroke=\"currentColor\" stroke-width=\"1.00\" stroke-linecap=\"butt\" stroke-linejoin=\"miter\">\n",
       "\t<path stroke='black'  d='M93.7,316.4 L104.2,316.4 M570.8,316.4 L560.3,316.4  '/>\t<g transform=\"translate(84.0,321.0)\" stroke=\"none\" fill=\"black\" font-family=\"Arial\" font-size=\"14.00\"  text-anchor=\"end\">\n",
       "\t\t<text><tspan font-family=\"Arial\" > 0.15</tspan></text>\n",
       "\t</g>\n",
       "</g>\n",
       "<g fill=\"none\" color=\"black\" stroke=\"currentColor\" stroke-width=\"1.00\" stroke-linecap=\"butt\" stroke-linejoin=\"miter\">\n",
       "\t<path stroke='black'  d='M93.7,276.6 L104.2,276.6 M570.8,276.6 L560.3,276.6  '/>\t<g transform=\"translate(84.0,281.2)\" stroke=\"none\" fill=\"black\" font-family=\"Arial\" font-size=\"14.00\"  text-anchor=\"end\">\n",
       "\t\t<text><tspan font-family=\"Arial\" > 0.2</tspan></text>\n",
       "\t</g>\n",
       "</g>\n",
       "<g fill=\"none\" color=\"black\" stroke=\"currentColor\" stroke-width=\"1.00\" stroke-linecap=\"butt\" stroke-linejoin=\"miter\">\n",
       "\t<path stroke='black'  d='M93.7,236.8 L104.2,236.8 M570.8,236.8 L560.3,236.8  '/>\t<g transform=\"translate(84.0,241.4)\" stroke=\"none\" fill=\"black\" font-family=\"Arial\" font-size=\"14.00\"  text-anchor=\"end\">\n",
       "\t\t<text><tspan font-family=\"Arial\" > 0.25</tspan></text>\n",
       "\t</g>\n",
       "</g>\n",
       "<g fill=\"none\" color=\"black\" stroke=\"currentColor\" stroke-width=\"1.00\" stroke-linecap=\"butt\" stroke-linejoin=\"miter\">\n",
       "\t<path stroke='black'  d='M93.7,197.1 L104.2,197.1 M570.8,197.1 L560.3,197.1  '/>\t<g transform=\"translate(84.0,201.7)\" stroke=\"none\" fill=\"black\" font-family=\"Arial\" font-size=\"14.00\"  text-anchor=\"end\">\n",
       "\t\t<text><tspan font-family=\"Arial\" > 0.3</tspan></text>\n",
       "\t</g>\n",
       "</g>\n",
       "<g fill=\"none\" color=\"black\" stroke=\"currentColor\" stroke-width=\"1.00\" stroke-linecap=\"butt\" stroke-linejoin=\"miter\">\n",
       "\t<path stroke='black'  d='M93.7,157.3 L104.2,157.3 M570.8,157.3 L560.3,157.3  '/>\t<g transform=\"translate(84.0,161.9)\" stroke=\"none\" fill=\"black\" font-family=\"Arial\" font-size=\"14.00\"  text-anchor=\"end\">\n",
       "\t\t<text><tspan font-family=\"Arial\" > 0.35</tspan></text>\n",
       "\t</g>\n",
       "</g>\n",
       "<g fill=\"none\" color=\"black\" stroke=\"currentColor\" stroke-width=\"1.00\" stroke-linecap=\"butt\" stroke-linejoin=\"miter\">\n",
       "\t<path stroke='black'  d='M93.7,117.5 L104.2,117.5 M570.8,117.5 L560.3,117.5  '/>\t<g transform=\"translate(84.0,122.1)\" stroke=\"none\" fill=\"black\" font-family=\"Arial\" font-size=\"14.00\"  text-anchor=\"end\">\n",
       "\t\t<text><tspan font-family=\"Arial\" > 0.4</tspan></text>\n",
       "\t</g>\n",
       "</g>\n",
       "<g fill=\"none\" color=\"black\" stroke=\"currentColor\" stroke-width=\"1.00\" stroke-linecap=\"butt\" stroke-linejoin=\"miter\">\n",
       "\t<path stroke='black'  d='M93.7,77.8 L104.2,77.8 M570.8,77.8 L560.3,77.8  '/>\t<g transform=\"translate(84.0,82.4)\" stroke=\"none\" fill=\"black\" font-family=\"Arial\" font-size=\"14.00\"  text-anchor=\"end\">\n",
       "\t\t<text><tspan font-family=\"Arial\" > 0.45</tspan></text>\n",
       "\t</g>\n",
       "</g>\n",
       "<g fill=\"none\" color=\"black\" stroke=\"currentColor\" stroke-width=\"1.00\" stroke-linecap=\"butt\" stroke-linejoin=\"miter\">\n",
       "\t<path stroke='black'  d='M93.7,38.0 L104.2,38.0 M570.8,38.0 L560.3,38.0  '/>\t<g transform=\"translate(84.0,42.6)\" stroke=\"none\" fill=\"black\" font-family=\"Arial\" font-size=\"14.00\"  text-anchor=\"end\">\n",
       "\t\t<text><tspan font-family=\"Arial\" > 0.5</tspan></text>\n",
       "\t</g>\n",
       "</g>\n",
       "<g fill=\"none\" color=\"black\" stroke=\"currentColor\" stroke-width=\"1.00\" stroke-linecap=\"butt\" stroke-linejoin=\"miter\">\n",
       "\t<path stroke='black'  d='M93.7,395.9 L93.7,385.4 M93.7,38.0 L93.7,48.5  '/>\t<g transform=\"translate(93.7,421.5)\" stroke=\"none\" fill=\"black\" font-family=\"Arial\" font-size=\"14.00\"  text-anchor=\"middle\">\n",
       "\t\t<text><tspan font-family=\"Arial\" > 1</tspan></text>\n",
       "\t</g>\n",
       "</g>\n",
       "<g fill=\"none\" color=\"black\" stroke=\"currentColor\" stroke-width=\"1.00\" stroke-linecap=\"butt\" stroke-linejoin=\"miter\">\n",
       "\t<path stroke='black'  d='M173.2,395.9 L173.2,385.4 M173.2,38.0 L173.2,48.5  '/>\t<g transform=\"translate(173.2,421.5)\" stroke=\"none\" fill=\"black\" font-family=\"Arial\" font-size=\"14.00\"  text-anchor=\"middle\">\n",
       "\t\t<text><tspan font-family=\"Arial\" > 1.5</tspan></text>\n",
       "\t</g>\n",
       "</g>\n",
       "<g fill=\"none\" color=\"black\" stroke=\"currentColor\" stroke-width=\"1.00\" stroke-linecap=\"butt\" stroke-linejoin=\"miter\">\n",
       "\t<path stroke='black'  d='M252.7,395.9 L252.7,385.4 M252.7,38.0 L252.7,48.5  '/>\t<g transform=\"translate(252.7,421.5)\" stroke=\"none\" fill=\"black\" font-family=\"Arial\" font-size=\"14.00\"  text-anchor=\"middle\">\n",
       "\t\t<text><tspan font-family=\"Arial\" > 2</tspan></text>\n",
       "\t</g>\n",
       "</g>\n",
       "<g fill=\"none\" color=\"black\" stroke=\"currentColor\" stroke-width=\"1.00\" stroke-linecap=\"butt\" stroke-linejoin=\"miter\">\n",
       "\t<path stroke='black'  d='M332.3,395.9 L332.3,385.4 M332.3,38.0 L332.3,48.5  '/>\t<g transform=\"translate(332.3,421.5)\" stroke=\"none\" fill=\"black\" font-family=\"Arial\" font-size=\"14.00\"  text-anchor=\"middle\">\n",
       "\t\t<text><tspan font-family=\"Arial\" > 2.5</tspan></text>\n",
       "\t</g>\n",
       "</g>\n",
       "<g fill=\"none\" color=\"black\" stroke=\"currentColor\" stroke-width=\"1.00\" stroke-linecap=\"butt\" stroke-linejoin=\"miter\">\n",
       "\t<path stroke='black'  d='M411.8,395.9 L411.8,385.4 M411.8,38.0 L411.8,48.5  '/>\t<g transform=\"translate(411.8,421.5)\" stroke=\"none\" fill=\"black\" font-family=\"Arial\" font-size=\"14.00\"  text-anchor=\"middle\">\n",
       "\t\t<text><tspan font-family=\"Arial\" > 3</tspan></text>\n",
       "\t</g>\n",
       "</g>\n",
       "<g fill=\"none\" color=\"black\" stroke=\"currentColor\" stroke-width=\"1.00\" stroke-linecap=\"butt\" stroke-linejoin=\"miter\">\n",
       "\t<path stroke='black'  d='M491.3,395.9 L491.3,385.4 M491.3,38.0 L491.3,48.5  '/>\t<g transform=\"translate(491.3,421.5)\" stroke=\"none\" fill=\"black\" font-family=\"Arial\" font-size=\"14.00\"  text-anchor=\"middle\">\n",
       "\t\t<text><tspan font-family=\"Arial\" > 3.5</tspan></text>\n",
       "\t</g>\n",
       "</g>\n",
       "<g fill=\"none\" color=\"black\" stroke=\"currentColor\" stroke-width=\"1.00\" stroke-linecap=\"butt\" stroke-linejoin=\"miter\">\n",
       "\t<path stroke='black'  d='M570.8,395.9 L570.8,385.4 M570.8,38.0 L570.8,48.5  '/>\t<g transform=\"translate(570.8,421.5)\" stroke=\"none\" fill=\"black\" font-family=\"Arial\" font-size=\"14.00\"  text-anchor=\"middle\">\n",
       "\t\t<text><tspan font-family=\"Arial\" > 4</tspan></text>\n",
       "\t</g>\n",
       "</g>\n",
       "<g fill=\"none\" color=\"black\" stroke=\"currentColor\" stroke-width=\"1.00\" stroke-linecap=\"butt\" stroke-linejoin=\"miter\">\n",
       "</g>\n",
       "<g fill=\"none\" color=\"black\" stroke=\"black\" stroke-width=\"2.00\" stroke-linecap=\"butt\" stroke-linejoin=\"miter\">\n",
       "</g>\n",
       "<g fill=\"none\" color=\"black\" stroke=\"currentColor\" stroke-width=\"2.00\" stroke-linecap=\"butt\" stroke-linejoin=\"miter\">\n",
       "</g>\n",
       "<g fill=\"none\" color=\"black\" stroke=\"black\" stroke-width=\"1.00\" stroke-linecap=\"butt\" stroke-linejoin=\"miter\">\n",
       "</g>\n",
       "<g fill=\"none\" color=\"black\" stroke=\"currentColor\" stroke-width=\"1.00\" stroke-linecap=\"butt\" stroke-linejoin=\"miter\">\n",
       "\t<path stroke='black'  d='M93.7,38.0 L93.7,395.9 L570.8,395.9 L570.8,38.0 L93.7,38.0 Z  '/></g>\n",
       "<g fill=\"none\" color=\"black\" stroke=\"currentColor\" stroke-width=\"1.00\" stroke-linecap=\"butt\" stroke-linejoin=\"miter\">\n",
       "</g>\n",
       "</g>\n",
       "</svg>\n",
       "\n"
      ],
      "text/plain": [
       "/tmp/maxplot.svg"
      ]
     },
     "metadata": {},
     "output_type": "display_data"
    }
   ],
   "source": [
    "sum(1/2,i,1,10);\n",
    "10*(1/2);\n",
    "(1/2)^1+(1/2)^2+(1/2)^3+(1/2)^4;\n",
    "sum((1/2)^n,n,1,4);\n",
    "plot2d([discrete,makelist((1/2)^i,i,4)],[style,points])$"
   ]
  },
  {
   "cell_type": "markdown",
   "metadata": {},
   "source": [
    "As you can see above instead of evaluating:\n",
    "\n",
    "$$(1/2)^1+(1/2)^2+(1/2)^3+(1/2)^4 = 15/16$$\n",
    "we compact the notation to:\n",
    "$$\\sum_{n=1}^4 (1/2)^n = 15/16$$\n",
    "\n"
   ]
  },
  {
   "cell_type": "markdown",
   "metadata": {},
   "source": [
    "<a id='diverg'></a>\n",
    "## Divergence and Integral Test\n",
    "* [Home](https://codmccabe.github.io/index.html)\n",
    "* [Calc Home](https://codmccabe.github.io/calc/index.html)\n",
    "* [Intro](#intro)\n",
    "* [Divergence and Integral Test](#diverg)\n",
    "* [Comparison Tests](#compar)\n",
    "* [Alternating Series](#altern)\n",
    "* [Ratio and Root Tests](#ratioRoot)\n",
    "\n",
    "### Theorem (Divergence Test)\n",
    "If $\\lim_{n\\to \\infty}a_n=c\\ne 0$ or $\\lim_{n\\to \\infty}a_n$ does not exist, then the series $\\SUM{\\infty}{a_n}$ diverges.\n",
    "\n",
    "---\n",
    "### Theorem (Integral Test)\n",
    "Consider the series $\\SUM{\\infty}{a_n}$.\n",
    "* If the sequence of $a_n$ is made up of positive terms.\n",
    "* If there exists a function $f$ and a positive integer $N$ such that the following three conditions are satisfied:\n",
    "1. $f$ is continuous,\n",
    "2. $f$ is decreasing, and\n",
    "3. $f(n)=a_n$ for all integers $n\\ge N$.\n",
    "\n",
    "Then\n",
    "$$\\SUM{\\infty}{a_n} \\text{ and } \\int_N^{\\infty}f(x)\\,dx$$\n",
    "both converge or both diverge.\n",
    "### NOTE\n",
    "Very important to satisfy the three conditions in order to use the Integral test.\n",
    "\n",
    "---\n",
    "### Definition ($p$-series)\n",
    "For any real number $p$, the series $$\\SUM{\\infty}{\\frac{1}{n^p}}$$ is called a $p$-series.\n",
    "\n",
    "---\n",
    "### FACTs ($p$-series Convergence or Divergence)\n",
    "(More will follow after comparison tests like the ratio test and root test)\n",
    "Given the $p$-series $\\SUM{\\infty}{\\frac{1}{n^p}}$\n",
    "* If $p<0$, then $1/n^p \\to \\infty$, and if $p=0$, then $1/n^p \\to 1$. Therefore, by the divergence test the $p$-series diverges if $p\\le 0$.\n",
    "* If $p>0$, then $f(x)=1/x^p$ is a positive, continuous, decreasing function (integral test). Therefore, for $p>0$, we use the integral test, comparing $$\\SUM{\\infty}{\\frac{1}{n^p}} \\text{ and }\\int_1^{\\infty}\\frac{1}{x^p}\\,dx$$ and from improper integrals we know\n",
    "    - If $p>1$ then the $p$-series converges.\n",
    "    - if $0<p\\le 1$ then the $p$-series diverges.\n",
    "    \n",
    "---\n",
    "### Theorem (Remainder Estimate from the Integral Test)\n",
    "Suppose $\\SUM{\\infty}{a_n}$ is a convergent series with positive terms. Suppose there exists a function $f$ satisfying the following three conditions:\n",
    "1. $f$ is continous,\n",
    "2. $f$ is decreasing, and\n",
    "3. $f(n)=a_n$ for all integers $n\\ge 1$.\n",
    "\n",
    "Let $S_N$ be the $N^{\\text{th}}$ partial sum of $\\SUM{\\infty}{a_n}$. For all positive integers $N$,\n",
    "\n",
    "$$S_N+\\int_{N+1}^{\\infty}f(x)\\,dx<\\SUM{\\infty}{a_n}<S_N+\\int_N^{\\infty}f(x)\\,dx$$\n",
    "\n",
    "In other words, the remainder $$R_N=\\SUM{\\infty}{a_n}-S_N = \\sum_{n=N+1}^{\\infty}\\left(a_n\\right)$$\n",
    "satisfies the following estimate:\n",
    "\n",
    "$$\\int_{N+1}^{\\infty}f(x)\\,dx < R_n < \\int_N^{\\infty}f(x)\\,dx.$$\n",
    "\n",
    "---\n",
    "---\n",
    "#### Example (Estimating the value of a series)\n",
    "Consider $\\SUM{\\infty}{\\frac{1}{n^3}}$\n",
    "1. Find the error for $S_{10}$.\n",
    "2. Determien the elase value of $N$ necessary such that $S_N$ will estimate $\\SUM{\\infty}{1/n^3}$ within $0.001$."
   ]
  },
  {
   "cell_type": "code",
   "execution_count": 3,
   "metadata": {},
   "outputs": [
    {
     "data": {
      "text/latex": [
       "\\[\\tag{${\\it \\%o}_{7}$}{{19164113947}\\over{16003008000}}\\]"
      ],
      "text/plain": [
       "                                  19164113947\n",
       "(%o7)                             -----------\n",
       "                                  16003008000"
      ],
      "text/x-maxima": [
       "19164113947/16003008000"
      ]
     },
     "execution_count": 3,
     "metadata": {},
     "output_type": "execute_result"
    },
    {
     "data": {
      "text/latex": [
       "\\[\\tag{${\\it \\%o}_{8}$}1.197531985674193\\]"
      ],
      "text/plain": [
       "(%o8)                          1.197531985674193"
      ],
      "text/x-maxima": [
       "1.197531985674193"
      ]
     },
     "execution_count": 3,
     "metadata": {},
     "output_type": "execute_result"
    },
    {
     "data": {
      "text/latex": [
       "\\[\\tag{${\\it \\%o}_{9}$}f\\left(x\\right):={{1}\\over{x^3}}\\]"
      ],
      "text/plain": [
       "                                          1\n",
       "(%o9)                             f(x) := --\n",
       "                                           3\n",
       "                                          x"
      ],
      "text/x-maxima": [
       "f(x):=1/x^3"
      ]
     },
     "execution_count": 3,
     "metadata": {},
     "output_type": "execute_result"
    },
    {
     "data": {
      "text/latex": [
       "\\[\\tag{${\\it \\%o}_{10}$}-{{1}\\over{2\\,x^2}}\\]"
      ],
      "text/plain": [
       "                                       1\n",
       "(%o10)                              - ----\n",
       "                                         2\n",
       "                                      2 x"
      ],
      "text/x-maxima": [
       "-1/(2*x^2)"
      ]
     },
     "execution_count": 3,
     "metadata": {},
     "output_type": "execute_result"
    },
    {
     "data": {
      "text/latex": [
       "\\[\\tag{${\\it \\%o}_{12}$}{{1}\\over{2}}-{{1}\\over{2\\,N^2}}\\]"
      ],
      "text/plain": [
       "                                   1    1\n",
       "(%o12)                             - - ----\n",
       "                                   2      2\n",
       "                                       2 N"
      ],
      "text/x-maxima": [
       "1/2-1/(2*N^2)"
      ]
     },
     "execution_count": 3,
     "metadata": {},
     "output_type": "execute_result"
    },
    {
     "data": {
      "text/latex": [
       "\\[\\tag{${\\it \\%o}_{13}$}{{1}\\over{2}}\\]"
      ],
      "text/plain": [
       "                                       1\n",
       "(%o13)                                 -\n",
       "                                       2"
      ],
      "text/x-maxima": [
       "1/2"
      ]
     },
     "execution_count": 3,
     "metadata": {},
     "output_type": "execute_result"
    }
   ],
   "source": [
    "sum(1/n^3,n,1,10);\n",
    "float(sum(1/n^3,n,1,10));\n",
    "f(x):=1/x^3;\n",
    "integrate(f(x),x);\n",
    "assume(N>1)$\n",
    "integrate(f(x),x,1,N);\n",
    "limit(integrate(f(x),x,1,N),N,infinity);"
   ]
  },
  {
   "cell_type": "markdown",
   "metadata": {},
   "source": [
    "As we can see from the calculations the remainder estimate is $R_n=\\frac{1}{2N^2}$. So if we want the error for $S_{10}$ we have:"
   ]
  },
  {
   "cell_type": "code",
   "execution_count": 4,
   "metadata": {},
   "outputs": [
    {
     "data": {
      "text/latex": [
       "\\[\\tag{${\\it \\%o}_{14}$}{\\it Rn}\\left(N\\right):={{1}\\over{2\\,N^2}}\\]"
      ],
      "text/plain": [
       "                                           1\n",
       "(%o14)                           Rn(N) := ----\n",
       "                                             2\n",
       "                                          2 N"
      ],
      "text/x-maxima": [
       "Rn(N):=1/(2*N^2)"
      ]
     },
     "execution_count": 4,
     "metadata": {},
     "output_type": "execute_result"
    },
    {
     "data": {
      "text/latex": [
       "\\[\\tag{${\\it \\%o}_{15}$}{{1}\\over{200}}\\]"
      ],
      "text/plain": [
       "                                       1\n",
       "(%o15)                                ---\n",
       "                                      200"
      ],
      "text/x-maxima": [
       "1/200"
      ]
     },
     "execution_count": 4,
     "metadata": {},
     "output_type": "execute_result"
    },
    {
     "data": {
      "text/latex": [
       "\\[\\tag{${\\it \\%o}_{16}$}0.005\\]"
      ],
      "text/plain": [
       "(%o16)                               0.005"
      ],
      "text/x-maxima": [
       "0.005"
      ]
     },
     "execution_count": 4,
     "metadata": {},
     "output_type": "execute_result"
    }
   ],
   "source": [
    "Rn(N):=1/(2*N^2);\n",
    "Rn(10);\n",
    "float(Rn(10));"
   ]
  },
  {
   "cell_type": "markdown",
   "metadata": {},
   "source": [
    "Now determine least value of $N$. That is solve the following inequality:\n",
    "$$R_N<0.001 \\text{ or } \\frac{1}{2N^2}<0.001$$"
   ]
  },
  {
   "cell_type": "code",
   "execution_count": 5,
   "metadata": {},
   "outputs": [
    {
     "name": "stdout",
     "output_type": "stream",
     "text": [
      "\n",
      "rat: replaced -0.001 by -1/1000 = -0.001\n"
     ]
    },
    {
     "data": {
      "text/latex": [
       "\\[\\tag{${\\it \\%o}_{18}$}\\left[ N=-2\\,5^{{{3}\\over{2}}} , N=2\\,5^{{{3}\\over{2}}} \\right] \\]"
      ],
      "text/plain": [
       "                                    3/2         3/2\n",
       "(%o18)                    [N = - 2 5   , N = 2 5   ]"
      ],
      "text/x-maxima": [
       "[N = -2*5^(3/2),N = 2*5^(3/2)]"
      ]
     },
     "execution_count": 5,
     "metadata": {},
     "output_type": "execute_result"
    },
    {
     "name": "stdout",
     "output_type": "stream",
     "text": [
      "\n",
      "rat: replaced -0.001 by -1/1000 = -0.001\n"
     ]
    },
    {
     "data": {
      "text/latex": [
       "\\[\\tag{${\\it \\%o}_{19}$}\\left[ N=-22.3606797749979 , N=22.3606797749979 \\right] \\]"
      ],
      "text/plain": [
       "(%o19)          [N = - 22.3606797749979, N = 22.3606797749979]"
      ],
      "text/x-maxima": [
       "[N = -22.3606797749979,N = 22.3606797749979]"
      ]
     },
     "execution_count": 5,
     "metadata": {},
     "output_type": "execute_result"
    }
   ],
   "source": [
    "assume(N>1)$\n",
    "solve(1/(2*N^2)=0.001,N);\n",
    "float(solve(1/(2*N^2)=0.001,N));"
   ]
  },
  {
   "cell_type": "markdown",
   "metadata": {},
   "source": [
    "Therefore, the minimum necessary value is $N=23$.\n",
    "\n",
    "---\n",
    "---"
   ]
  },
  {
   "cell_type": "markdown",
   "metadata": {},
   "source": [
    "<a id='compar'></a>\n",
    "## Comparison Test\n",
    "* [Home](https://codmccabe.github.io/index.html)\n",
    "* [Calc Home](https://codmccabe.github.io/calc/index.html)\n",
    "* [Intro](#intro)\n",
    "* [Divergence and Integral Test](#diverg)\n",
    "* [Comparison Tests](#compar)\n",
    "* [Alternating Series](#altern)\n",
    "* [Ratio and Root Tests](#ratioRoot)\n",
    "\n",
    "### Theorem (Comparison Test)\n",
    "1. Suppose there exists an integer $N$ such that $0\\le a_n\\le b_n$ for all $n\\ge N$. If $\\SUM{\\infty}{b_n}$ converges, then $\\SUM{\\infty}{a_n}$ converges.\n",
    "2. Suppose there exists an integer $N$ such that $a_n\\ge b_n\\ge 0$ for all $n\\ge N$. If $\\SUM{\\infty}{b_n}$ diverges, then $\\SUM{\\infty}{a_n}$ diverges.\n",
    "\n",
    "---\n",
    "### Theorem (Limit Comparison Test)\n",
    "Let $a_n$, $b_n\\ge 0$ for all $n\\ge 1$.\n",
    "1. If $\\lim_{n\\to \\infty}\\left(a_n/b_n\\right) = L \\ne 0$, then $\\SUM{\\infty}{a_n}$ and $\\SUM{\\infty}{b_n}$ both converge or both diverge.\n",
    "2. If $\\lim_{n\\to \\infty}\\left(a_n/b_n\\right) = 0$ and $\\SUM{\\infty}{b_n}$ converges, then $\\SUM{\\infty}{a_n}$ converges\n",
    "3. If $\\lim_{n\\to \\infty}\\left(a_n/b_n\\right) = \\infty$ and $\\SUM{\\infty}{b_n}$ diverges, then $\\SUM{\\infty}{a_n}$ diverges.\n",
    "\n",
    "---"
   ]
  },
  {
   "cell_type": "markdown",
   "metadata": {},
   "source": [
    "<a id='altern'></a>\n",
    "## Alternating Series\n",
    "* [Home](https://codmccabe.github.io/index.html)\n",
    "* [Calc Home](https://codmccabe.github.io/calc/index.html)\n",
    "* [Intro](#intro)\n",
    "* [Divergence and Integral Test](#diverg)\n",
    "* [Comparison Tests](#compar)\n",
    "* [Alternating Series](#altern)\n",
    "* [Ratio and Root Tests](#ratioRoot)\n",
    "\n",
    "### Definition (Alternating Series)\n",
    "Any series whose terms alternate between positive and negative values is called an alternating series. An alternating series can be written in the form\n",
    "\n",
    "$$\\SUM{\\infty}{(-1)^{n+1}b_n} = b_1 -b_2+b_3-b_4+\\cdots$$\n",
    "or\n",
    "$$\\SUM{\\infty}{(-1)^n b_n} = -b_1+b_2-b_3+b_4-\\cdots$$\n",
    "\n",
    "where $b_n\\ge 0$ for all positive integers $n$.\n",
    "\n",
    "---\n",
    "### Theorem (Alternating Series Test)\n",
    "An alternating series of the form\n",
    "$$\\SUM{\\infty}{(-1)^{n+1}b_n}\\text{ or } \\SUM{\\infty}{(-1)^n b_n}$$\n",
    "converges if\n",
    "1. $0\\le b_{n+1} \\le b_n$ for all $n\\ge 1$ and\n",
    "2. $\\lim_{n\\to \\infty}b_n=0$.\n",
    "\n",
    "---\n",
    "### Theorem (Remainders in Alternating Series)\n",
    "Consider the alternating series of the form\n",
    "$$\\SUM{\\infty}{(-1)^{n+1}b_n} \\text{ or }\\SUM{\\infty}{(-1)^nb_n}$$\n",
    "that satisfies the hypotheses of the alternating series test.\n",
    "\n",
    "Let $S$ denote the sum of the series and $S_N$ denote the $N^{\\text{th}}$ partial sum. For any integer $N\\ge 1$, the remainder $R_N = S - S_N$ satisfies\n",
    "$$|R_N|\\le b_{N+1}$$\n",
    "\n",
    "---\n",
    "### Definition (Absolute and Condition Convergence)\n",
    "A series $\\SUM{\\infty}{a_n}$ exhibits absolute convergence if $\\SUM{\\infty}{|a_n|}$ converges. A series $\\SUM{\\infty}{a_n}$ exhibits conditional convergence if $\\SUM{\\infty}{a_n}$ converges but $\\SUM{\\infty}{|a_n|}$ diverges.\n",
    "\n",
    "---\n",
    "### Theorem (Absolute Convergence Implies Convergence)\n",
    "If $\\SUM{\\infty}{|a_n|}$ converges, then $\\SUM{\\infty}{a_n}$ converges.\n",
    "\n",
    "---"
   ]
  },
  {
   "cell_type": "markdown",
   "metadata": {},
   "source": [
    "<a id='ratioRoot'></a>\n",
    "## Ratio and Root Tests\n",
    "* [Home](https://codmccabe.github.io/index.html)\n",
    "* [Calc Home](https://codmccabe.github.io/calc/index.html)\n",
    "* [Intro](#intro)\n",
    "* [Divergence and Integral Test](#diverg)\n",
    "* [Comparison Tests](#compar)\n",
    "* [Alternating Series](#altern)\n",
    "* [Ratio and Root Tests](#ratioRoot)\n",
    "\n",
    "### Theorem (Ratio Test)\n",
    "Let $\\SUM{\\infty}{a_n}$ be a series with nonzero terms. Let\n",
    "$$\\rho = \\lim_{n\\to \\infty}\\left|\\frac{a_{n+1}}{a_n}\\right|.$$\n",
    "\n",
    "1. If $0\\le\\rho <1$, then $\\SUM{\\infty}{a_n}$ converges absolutely.\n",
    "2. If $\\rho >1$ or $\\rho = \\infty$, then $\\SUM{\\infty}{a_n}$ diverges.\n",
    "3. If $\\rho = 1$, the test does not provide any information.\n",
    "\n",
    "---\n",
    "### Theorem (Root Test)\n",
    "Consider the series $\\SUM{\\infty}{a_n}$. Let \n",
    "$$\\rho = \\lim_{n\\to \\infty}\\sqrt[n]{\\left|a_n\\right|}$$\n",
    "1. If $0\\le \\rho <1$, then $\\SUM{\\infty}{a_n}$ converges absolutely.\n",
    "2. If $\\rho > 1$ or $\\rho = \\infty$, then $\\SUM{\\infty}{a_n}$ diverges.\n",
    "3. If $\\rho = 1$, the test does not provide any information.\n",
    "\n",
    "---\n"
   ]
  },
  {
   "cell_type": "markdown",
   "metadata": {},
   "source": [
    " <table style=\"width:100%\">\n",
    "  <tr>\n",
    "    <th>Series or Test</th>\n",
    "      <th>Conclusions</th>\n",
    "      <th>Comments</th>\n",
    "  </tr>\n",
    "    \n",
    "  <tr>\n",
    "    <th rowspan=\"2\">\n",
    "        <p>Divergence Test </p>\n",
    "        \n",
    "        <p>For any series $\\sum_{n=1}^{\\infty}(a_{n})$, evaluate $\\lim_{n\\to\\infty}(a_{n})$.</p></th>\n",
    "    <td>If $\\lim_{n\\to\\infty}(a_{n})=0$, the test is inconclusive.</td>\n",
    "      <td>The test cannot prove convergence of a series.</td>\n",
    "  </tr>\n",
    "  <tr>\n",
    "    <td>If $\\lim_{n\\to\\infty}(a_{n})\\ne0$, the series diverges.</td>\n",
    "  \n",
    "  </tr>\n",
    "    \n",
    "    <tr>\n",
    "    <th rowspan=\"2\">\n",
    "        <p>Geometric Series </p>\n",
    "        \n",
    "        <p>$\\sum_{n=1}^{\\infty}\\left(ar^{n-1}\\right)$</p></th>\n",
    "    <td>If $|r|<1$, the series converges to $\\frac{a}{1-r}$.</td>\n",
    "      <td>Any geometric series can be re-indexed to be written in the form $a+ar+ar^{2}+\\cdots$,\n",
    "where $a$ is the initial term and $r$ is the ratio.</td>\n",
    "  </tr>\n",
    "  <tr>\n",
    "    <td>If $|r|\\ge1$, the series diverges.</td>\n",
    "  \n",
    "    </tr>\n",
    "    \n",
    "    <tr>\n",
    "    <th rowspan=\"2\">\n",
    "        <p>$p$-Series </p>\n",
    "        \n",
    "        <p>$\\sum_{n=1}^{\\infty}\\left(\\frac{1}{n^{p}}\\right)$</p></th>\n",
    "    <td>If $p>1$, the series converges.</td>\n",
    "      <td>For $p=1$, we have the harmonic series $\\sum_{n=1}^{\\infty}\\left(\\frac{1}{n}\\right)$.</td>\n",
    "  </tr>\n",
    "  <tr>\n",
    "    <td>If $p\\le1$, the series diverges.</td>\n",
    "  \n",
    "    </tr>\n",
    "    \n",
    "     <tr>\n",
    "    <th rowspan=\"2\">\n",
    "        <p>Comparison Test </p>\n",
    "        \n",
    "        <p>For $\\sum_{n=1}^{\\infty}(a_{n})$ with nonnegative terms, compare with a known series $\\sum_{n=1}^{\\infty}(b_{n})$.</p></th>\n",
    "    <td>If $a_{n}\\le b_{n}$ for all $n\\ge N$ and $\\sum_{n=1}^{\\infty}(b_{n})$\n",
    "converges, then $\\sum_{n=1}^{\\infty}(a_{n})$ converges</td>\n",
    "      <td>Typically used for a series similar to a geometric or $p$-series.\n",
    "It can sometimes be difficult to find an appropriate series.</td>\n",
    "  </tr>\n",
    "  <tr>\n",
    "    <td>If $a_{n}\\ge b_{n}$ for all $n\\ge N$ and $\\sum_{n=1}^{\\infty}(b_{n})$\n",
    "diverges, then $\\sum_{n=1}^{\\infty}(a_{n})$ diverges.</td>\n",
    "  \n",
    "    </tr>\n",
    "    \n",
    "     <tr>\n",
    "    <th rowspan=\"3\">\n",
    "        <p>Limit Comparison Test </p>\n",
    "        \n",
    "        <p>For $\\sum_{n=1}^{\\infty}(a_{n})$ with positive terms, compare with a series $\\sum_{n=1}^{\\infty}(b_{n})$ by evaluating $L=\\lim_{n\\to\\infty}\\frac{a_{n}}{b_{n}}$.</p></th>\n",
    "    <td>If $L$ is a real number and $L\\ne0$, then $\\sum_{n=1}^{\\infty}(a_{n})$\n",
    "and $\\sum_{n=1}^{\\infty}(b_{n})$ both converge or both diverge.</td>\n",
    "      <td>Typically used for a series similar to a geometric or p-series. Often\n",
    "easier to apply than the comparison test.</td>\n",
    "  </tr>\n",
    "  <tr>\n",
    "    <td>If $L=0$ and $\\sum_{n=1}^{\\infty}(b_{n})$ converges, then $\\sum_{n=1}^{\\infty}(a_{n})$\n",
    "converges.</td>\n",
    "      </tr>\n",
    "    <tr>\n",
    "        <td> If $L=\\infty$ and $\\sum_{n=1}^{\\infty}(b_{n})$ diverges, then $\\sum_{n=1}^{\\infty}(a_{n})$\n",
    "diverges.</td>\n",
    "    </tr>\n",
    "    \n",
    "    \n",
    "    <tr>\n",
    "        <th><p> Integral Test</p>\n",
    "            <p> If there exists a positive, continuous, decreasing function $f$ such\n",
    "                that $a_{n}=f(n)$ for all $n\\ge N,$evaluate $\\int_{N}^{\\infty}f(x)\\,dx$.</p>\n",
    "        </th>\n",
    "        <td>$\\int_{N}^{\\infty}f(x)\\,dx$ and $\\sum_{n=1}^{\\infty}(a_{n})$ both\n",
    "converge or both diverge. </td>\n",
    "        <td> Limited to those series for which the corresponding function $f$\n",
    "            can be easily integrated.</td>\n",
    "    </tr>\n",
    "    \n",
    "    <tr>\n",
    "        <th><p>Alternating Series</p>\n",
    "            <p> $\\sum_{n=1}^{\\infty}\\left((-1)^{n+1}b_{n}\\right)$ or $\\sum_{n=1}^{\\infty}\\left((-1)^{n}b_{n}\\right)$</p>\n",
    "        </th>\n",
    "        <td>If $b_{n+1}\\le b_{n}$ for all $n\\ge1$ and $b_{n}\\to0$ as $n\\to\\infty$,\n",
    "then the series converges.</td>\n",
    "        <td>  Only applies to alternating series.</td>\n",
    "    </tr>\n",
    "   \n",
    "    <tr>\n",
    "    <th rowspan=\"3\">\n",
    "        <p>Ratio Test</p>\n",
    "        \n",
    "        <p>For any series $\\sum_{n=1}^{\\infty}(a_{n})$ with nonzero terms, let\n",
    "$\\rho=\\lim_{n\\to\\infty}\\left|\\dfrac{a_{n+1}}{a_{n}}\\right|$.</p></th>\n",
    "    <td>If $0\\le\\rho<1$, the series converges absolutely.</td>\n",
    "      <td>Often used for series involving factorials or exponential.</td>\n",
    "  </tr>\n",
    "  <tr>\n",
    "    <td>If $\\rho>1$ or $\\rho=\\infty$, the series diverges.</td>\n",
    "      </tr>\n",
    "    <tr>\n",
    "        <td> If $\\rho=1$, the test is inconclusive.</td>\n",
    "    </tr>\n",
    "    \n",
    "    <tr>\n",
    "    <th rowspan=\"3\">\n",
    "        <p>Root Test</p>\n",
    "        \n",
    "        <p>For any series $\\sum_{n=1}^{\\infty}(a_{n})$ with nonzero terms, let\n",
    "$\\rho=\\lim_{n\\to\\infty}\\sqrt[n]{|a_{n}|}$.</p></th>\n",
    "     <td>If $0\\le\\rho<1$, the series converges absolutely.</td>\n",
    "      <td>Often used for series where $|a_n|=b_n^n$</td>\n",
    "  </tr>\n",
    "  <tr>\n",
    "    <td>If $\\rho>1$ or $\\rho=\\infty$, the series diverges.</td>\n",
    "      </tr>\n",
    "    <tr>\n",
    "        <td> If $\\rho=1$, the test is inconclusive.</td>\n",
    "    </tr>\n",
    "    \n",
    "    \n",
    "</table> "
   ]
  }
 ],
 "metadata": {
  "kernelspec": {
   "display_name": "Maxima",
   "language": "maxima",
   "name": "maxima"
  },
  "language_info": {
   "codemirror_mode": "maxima",
   "file_extension": ".mac",
   "mimetype": "text/x-maxima",
   "name": "maxima",
   "pygments_lexer": "maxima",
   "version": "5.44.0"
  }
 },
 "nbformat": 4,
 "nbformat_minor": 4
}
