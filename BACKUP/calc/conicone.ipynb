{
 "cells": [
  {
   "cell_type": "markdown",
   "metadata": {},
   "source": [
    "# Conic Section\n",
    "* [Home](https://codmccabe.github.io)"
   ]
  },
  {
   "cell_type": "markdown",
   "metadata": {},
   "source": [
    "### Theorem (Focus, Directrix, and Eccentricity)\n",
    "\n",
    "Let $F$ be a fixed point (called the focus) and $l$ be a fixed line (called the directrix) in a plane. Let $e$ be a fixed positive number (called the eccentricity). The set of all points $P$ in the plane such that \n",
    "\n",
    "$$ \\dfrac{|PF|}{|Pl|} = e $$\n",
    "\n",
    "(that is, the ration of the distance from $F$ to the distance from $l$ is the constant $e$) is a connect section.\n",
    "\n",
    "The conic is:\n",
    "* a circle if $e=$,\n",
    "* an ellipse if $e<1$,\n",
    "* a parabola if $e=1$,\n",
    "* or a hyperbola if $e>1$.\n",
    "\n",
    "---\n",
    "### Theorem (Polar Equation and Conic Section)\n",
    "\n",
    "Assume $F$ (focus) is at the origin/pole.\n",
    "\n",
    "A polar equation of the form:\n",
    "\n",
    "$$r=\\dfrac{ed}{1\\pm e\\cos(\\theta)}\\, \\text{or}\\, r=\\dfrac{ed}{1\\pm e\\sin(\\theta)}$$\n",
    "\n",
    "represents a conic section with eccentricity $e$.\n",
    "\n",
    "---\n",
    "\n",
    "#### Example (Algebra Skills Check)\n",
    "\n",
    "Write the equation $\\dfrac{a}{b+cx}$ as $\\dfrac{m}{1+nx}$ where $a,b,c,m,n$ are real numbers.\n",
    "\n",
    "$$\n",
    "\\begin{array}{rl}\n",
    "    \\dfrac{a}{b+cx} & = \\frac{a}{b+\\frac{b}{b}\\cdot cx}\\\\\n",
    "    & = \\dfrac{a}{b+b\\cdot \\frac{c}{b}x}\\\\\n",
    "    & = \\dfrac{a}{b\\left(1+\\frac{c}{b}x\\right)}\\\\\n",
    "    & = \\dfrac{\\frac{a}{b}}{1+\\frac{c}{b}x}\\\\\n",
    "    & = \\dfrac{m}{1+nx}\n",
    "\\end{array}\n",
    "$$\n",
    "\n",
    "where $m=\\frac{a}{b}$ and $n=\\frac{c}{b}$.\n",
    "\n",
    "---\n",
    "\n",
    "### Definition (Conic Section General Form Equations)\n",
    "\n",
    "A conic section has the general form\n",
    "\n",
    "$$Ax^2+Bxy+Cy^2+Dx+Ey+F=0$$\n",
    "\n",
    "where $A,B,C$ are non-zero real numbers.\n",
    "\n",
    "### Theorem (Characteristics of the General Form Equations)\n",
    "\n",
    "If $A$ and $C$ are non zero real numbers and $B=0$, then we have the following general equation:\n",
    "\n",
    "$$Ax^2+Cy^2+Dx+Ey+F=0$$\n",
    "\n",
    "and the conic has not been rotated.\n",
    "* If $A\\ne C$ and $AC>0$, then the equation represents an ellipse.\n",
    "* If $A = C$, then the equation represents a circle.\n",
    "* If $A<0$ or $C<0$, then the equation represents a hyperbola.\n",
    "* IF $A$ or $C$ is allowed to be zero, then the equation represents a parabola."
   ]
  },
  {
   "cell_type": "markdown",
   "metadata": {},
   "source": [
    "<iframe src=\"https://www.geogebra.org/classic/tm2wpace?embed\" width=\"800\" height=\"600\" allowfullscreen style=\"border: 1px solid #e4e4e4;border-radius: 4px;\" frameborder=\"0\"></iframe>"
   ]
  }
 ],
 "metadata": {
  "kernelspec": {
   "display_name": "Maxima",
   "language": "maxima",
   "name": "maxima"
  },
  "language_info": {
   "codemirror_mode": "maxima",
   "file_extension": ".mac",
   "mimetype": "text/x-maxima",
   "name": "maxima",
   "pygments_lexer": "maxima",
   "version": "5.44.0"
  }
 },
 "nbformat": 4,
 "nbformat_minor": 4
}
