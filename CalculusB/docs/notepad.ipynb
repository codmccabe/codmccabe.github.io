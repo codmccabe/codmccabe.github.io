{
 "cells": [
  {
   "cell_type": "markdown",
   "id": "b1b2e707-4196-48f2-82a5-6cd6c43bae77",
   "metadata": {},
   "source": [
    "# Notepad of things I will regularly use"
   ]
  },
  {
   "cell_type": "markdown",
   "id": "f8643752-bbdd-4f44-ad33-fb43e455d170",
   "metadata": {},
   "source": [
    "Table:\n",
    "```\n",
    "<figure>\n",
    "  <table>\n",
    "    <thead>\n",
    "      <tr>\n",
    "        <th>Input</th>\n",
    "        <th>Output</th>\n",
    "      </tr>\n",
    "    </thead>\n",
    "    <tbody>\n",
    "      <tr>\n",
    "        <td>1</td>\n",
    "        <td>0</td>\n",
    "      </tr>\n",
    "      <tr>\n",
    "        <td>5</td>\n",
    "        <td>2</td>\n",
    "      </tr>\n",
    "      <tr>\n",
    "          <td>5</td>\n",
    "          <td>4</td>\n",
    "        </tr>\n",
    "    </tbody>\n",
    "  </table>\n",
    "  <figcaption style=\"text-align: center;\">Table C</figcaption>\n",
    "</figure>\n",
    "```"
   ]
  },
  {
   "cell_type": "markdown",
   "id": "cb87445f-7e0d-43ab-8aca-83c7704fc7f5",
   "metadata": {},
   "source": [
    "Hide solutions\n",
    "```\n",
    "<details>\n",
    "\n",
    "<summary><strong>Solution</strong></summary>\n",
    "\n",
    "The first and second tables define function. In both, each input corresponds\n",
    "to exactly one output. The third table does not define a function\n",
    "since the input value of $5$ corresponds with two different output\n",
    "values.\n",
    "\n",
    "</details>\n",
    "```"
   ]
  },
  {
   "cell_type": "code",
   "execution_count": null,
   "id": "0ba689d9-9014-4c8a-8e49-7c2fdf27992f",
   "metadata": {},
   "outputs": [],
   "source": []
  }
 ],
 "metadata": {
  "kernelspec": {
   "display_name": "Maxima",
   "language": "maxima",
   "name": "maxima"
  },
  "language_info": {
   "codemirror_mode": "maxima",
   "file_extension": ".mac",
   "mimetype": "text/x-maxima",
   "name": "maxima",
   "pygments_lexer": "maxima",
   "version": "5.45.1"
  }
 },
 "nbformat": 4,
 "nbformat_minor": 5
}
