{
 "cells": [
  {
   "cell_type": "code",
   "execution_count": 16,
   "id": "a786c41c-cef2-4517-a4d2-902f8f39cf0b",
   "metadata": {},
   "outputs": [],
   "source": [
    "set_plot_option([svg_file, \"maxplot.svg\"])$"
   ]
  },
  {
   "cell_type": "markdown",
   "id": "4fc04879-670d-4257-88e8-41872aae6f67",
   "metadata": {},
   "source": [
    "%load_ext tikzmagic\n",
    "# Limits Part One\n",
    "\n",
    "Let $f(x)=\\frac{x^2-1}{x-1}$. Evaluate $f(1)$"
   ]
  },
  {
   "cell_type": "code",
   "execution_count": 17,
   "id": "274640f3-e616-43ed-b8a5-4c61e07e1927",
   "metadata": {},
   "outputs": [
    {
     "name": "stdout",
     "output_type": "stream",
     "text": [
      "expt: undefined: 0 to a negative exponent.\n",
      "#0: f(x=1)\n",
      " -- an error. To debug this try: debugmode(true);\n"
     ]
    }
   ],
   "source": [
    "f(x):=(x^2-1)/(x-1)$\n",
    "f(1);"
   ]
  },
  {
   "cell_type": "markdown",
   "id": "68045efb-0d20-4cf5-9b50-1f5295ead0fe",
   "metadata": {},
   "source": [
    "The previous error confirms what we expexted:\n",
    "\n",
    "$$f(0)=\\frac{1^2-1}{1-1}=\\frac{0}{0}$$ \n",
    "\n",
    "and $\\frac{0}{0}$ is unclear in the real numbers. However,"
   ]
  },
  {
   "cell_type": "code",
   "execution_count": 2,
   "id": "41f15f14-f699-429c-aeee-c0c1561c2b90",
   "metadata": {},
   "outputs": [
    {
     "data": {
      "text/latex": [
       "\\[\\tag{${\\it \\%o}_{3}$}2\\]"
      ],
      "text/plain": [
       "(%o3)                                  2"
      ],
      "text/x-maxima": [
       "2"
      ]
     },
     "execution_count": 2,
     "metadata": {},
     "output_type": "execute_result"
    }
   ],
   "source": [
    "limit(f(x),x,1);"
   ]
  },
  {
   "cell_type": "markdown",
   "id": "c6d577bd-f037-4c88-8e2f-40a775413390",
   "metadata": {},
   "source": [
    "provides a result. What is `limit(exprs,x,a)`?\n",
    "\n",
    "Let's look deeper into the function $f$. Factor the top of the function $f$ and simplify:\n",
    "\n",
    "$$\\frac{x^2-1}{x-1} = \\frac{(x-1)(x+1)}{(x-1)} = (x+1)$$"
   ]
  },
  {
   "cell_type": "code",
   "execution_count": 3,
   "id": "45f872d1-c2d9-43af-b0d7-45bc4f9405d8",
   "metadata": {},
   "outputs": [
    {
     "data": {
      "text/latex": [
       "\\[\\tag{${\\it \\%o}_{4}$}x+1\\]"
      ],
      "text/plain": [
       "(%o4)                                x + 1"
      ],
      "text/x-maxima": [
       "x+1"
      ]
     },
     "execution_count": 3,
     "metadata": {},
     "output_type": "execute_result"
    }
   ],
   "source": [
    "factor(f(x));"
   ]
  },
  {
   "cell_type": "markdown",
   "id": "8a929480-8050-4472-9c0c-dde2f963de69",
   "metadata": {},
   "source": [
    "Notice, $f(x)$ is almost equal to a different function $g(x)=x+1$ for all $x$ except when $x=1$. That is,\n",
    "\n",
    "$$f(1) \\text{ is undefined}\\\\ \\text{but } g(1)=2$$\n",
    "\n",
    "If only there was a way to put these two ideas together.\n",
    "\n",
    "---\n",
    "\n",
    "Let's try a different approach. Complete the following table:\n",
    "\n",
    "|$x$ | $f(x)=\\frac{x^2-1}{x-1}$|\n",
    "|--- | --- |\n",
    "|3 | | |\n",
    "|2 | | |\n",
    "|1.5 | |\n",
    "|1.1 | |\n",
    "|1.01| |\n",
    "\n",
    "|$x$ | $f(x)=\\frac{x^2-1}{x-1}$|\n",
    "|--- | --- |\n",
    "| | | |\n",
    "|0.99 | | |\n",
    "|0.9 | |\n",
    "|0.5 | |\n",
    "|0| |"
   ]
  },
  {
   "cell_type": "code",
   "execution_count": 5,
   "id": "5d31d600-5af7-4d41-9334-3be7657365d4",
   "metadata": {},
   "outputs": [
    {
     "data": {
      "text/latex": [
       "\\[\\tag{${\\it \\%o}_{7}$}\\left[ 4 , 3 , 2.5 , 2.1 , 2.009999999999999 \\right] \\]"
      ],
      "text/plain": [
       "(%o7)                 [4, 3, 2.5, 2.1, 2.009999999999999]"
      ],
      "text/x-maxima": [
       "[4,3,2.5,2.1,2.009999999999999]"
      ]
     },
     "execution_count": 5,
     "metadata": {},
     "output_type": "execute_result"
    },
    {
     "data": {
      "text/latex": [
       "\\[\\tag{${\\it \\%o}_{8}$}\\left[ 1.990000000000001 , 1.9 , 1.5 , 1 , 0 \\right] \\]"
      ],
      "text/plain": [
       "(%o8)                 [1.990000000000001, 1.9, 1.5, 1, 0]"
      ],
      "text/x-maxima": [
       "[1.990000000000001,1.9,1.5,1,0]"
      ]
     },
     "execution_count": 5,
     "metadata": {},
     "output_type": "execute_result"
    }
   ],
   "source": [
    "f([3,2,1.5,1.1,1.01]);\n",
    "f([0.99,0.9,0.5,0,-1]);"
   ]
  },
  {
   "cell_type": "markdown",
   "id": "25902744-c2d7-4130-9e2c-0fe59b5de73d",
   "metadata": {},
   "source": [
    "|$x$ | $$f(x)=\\frac{x^2-1}{x-1}$$|\n",
    "|--- | --- |\n",
    "|3 | |4 |\n",
    "|2 | |3|\n",
    "|1.5 |2.5|\n",
    "|1.1 |2.1 |\n",
    "|1.01|2.01 |\n",
    "\n",
    "|$x$ | $$f(x)=\\frac{x^2-1}{x-1}$$|\n",
    "|--- | --- |\n",
    "|0.99 |1.99|\n",
    "|0.9 |1.9| \n",
    "|0.5 |1.5|\n",
    "|0 |1|\n",
    "|-1|0|\n",
    "\n",
    "As one can see, as $x$ approaches $1$ from the left ($x=\\{-1,0,0.5,0.9,0.99\\}$) and as $x$ approaches $1$ from the right ($x=\\{3,2,1.5,1.1,1.01\\}$) the output of $f$ seems to approach $2$. However, $f(1)$ is undefined.\n",
    "\n",
    "---\n",
    "\n",
    "Lets take a graphical approach. Consider the graph of $f(x)$:\n",
    "\n",
    "[!image](/images/graph1.png)"
   ]
  },
  {
   "cell_type": "code",
   "execution_count": 14,
   "id": "cde0a260-5058-4402-b4f9-4b8c6eb77457",
   "metadata": {},
   "outputs": [
    {
     "data": {
      "image/svg+xml": [
       "<?xml version=\"1.0\" encoding=\"utf-8\"  standalone=\"no\"?>\n",
       "<svg \n",
       " width=\"600\" height=\"480\"\n",
       " viewBox=\"0 0 600 480\"\n",
       " xmlns=\"http://www.w3.org/2000/svg\"\n",
       " xmlns:xlink=\"http://www.w3.org/1999/xlink\"\n",
       ">\n",
       "\n",
       "<title>Gnuplot</title>\n",
       "<desc>Produced by GNUPLOT 5.2 patchlevel 8 </desc>\n",
       "\n",
       "<g id=\"gnuplot_canvas\">\n",
       "\n",
       "<rect x=\"0\" y=\"0\" width=\"600\" height=\"480\" fill=\"none\"/>\n",
       "<defs>\n",
       "\n",
       "\t<circle id='gpDot' r='0.5' stroke-width='0.5' stroke='currentColor'/>\n",
       "\t<path id='gpPt0' stroke-width='0.190' stroke='currentColor' d='M-1,0 h2 M0,-1 v2'/>\n",
       "\t<path id='gpPt1' stroke-width='0.190' stroke='currentColor' d='M-1,-1 L1,1 M1,-1 L-1,1'/>\n",
       "\t<path id='gpPt2' stroke-width='0.190' stroke='currentColor' d='M-1,0 L1,0 M0,-1 L0,1 M-1,-1 L1,1 M-1,1 L1,-1'/>\n",
       "\t<rect id='gpPt3' stroke-width='0.190' stroke='currentColor' x='-1' y='-1' width='2' height='2'/>\n",
       "\t<rect id='gpPt4' stroke-width='0.190' stroke='currentColor' fill='currentColor' x='-1' y='-1' width='2' height='2'/>\n",
       "\t<circle id='gpPt5' stroke-width='0.190' stroke='currentColor' cx='0' cy='0' r='1'/>\n",
       "\t<use xlink:href='#gpPt5' id='gpPt6' fill='currentColor' stroke='none'/>\n",
       "\t<path id='gpPt7' stroke-width='0.190' stroke='currentColor' d='M0,-1.33 L-1.33,0.67 L1.33,0.67 z'/>\n",
       "\t<use xlink:href='#gpPt7' id='gpPt8' fill='currentColor' stroke='none'/>\n",
       "\t<use xlink:href='#gpPt7' id='gpPt9' stroke='currentColor' transform='rotate(180)'/>\n",
       "\t<use xlink:href='#gpPt9' id='gpPt10' fill='currentColor' stroke='none'/>\n",
       "\t<use xlink:href='#gpPt3' id='gpPt11' stroke='currentColor' transform='rotate(45)'/>\n",
       "\t<use xlink:href='#gpPt11' id='gpPt12' fill='currentColor' stroke='none'/>\n",
       "\t<path id='gpPt13' stroke-width='0.190' stroke='currentColor' d='M0,1.330 L1.265,0.411 L0.782,-1.067 L-0.782,-1.076 L-1.265,0.411 z'/>\n",
       "\t<use xlink:href='#gpPt13' id='gpPt14' fill='currentColor' stroke='none'/>\n",
       "\t<filter id='textbox' filterUnits='objectBoundingBox' x='0' y='0' height='1' width='1'>\n",
       "\t  <feFlood flood-color='white' flood-opacity='1' result='bgnd'/>\n",
       "\t  <feComposite in='SourceGraphic' in2='bgnd' operator='atop'/>\n",
       "\t</filter>\n",
       "\t<filter id='greybox' filterUnits='objectBoundingBox' x='0' y='0' height='1' width='1'>\n",
       "\t  <feFlood flood-color='lightgrey' flood-opacity='1' result='grey'/>\n",
       "\t  <feComposite in='SourceGraphic' in2='grey' operator='atop'/>\n",
       "\t</filter>\n",
       "</defs>\n",
       "<g fill=\"none\" color=\"white\" stroke=\"currentColor\" stroke-width=\"1.00\" stroke-linecap=\"butt\" stroke-linejoin=\"miter\">\n",
       "</g>\n",
       "<g fill=\"none\" color=\"gray\" stroke=\"currentColor\" stroke-width=\"1.00\" stroke-linecap=\"butt\" stroke-linejoin=\"miter\">\n",
       "\t<path stroke='black' stroke-dasharray='2,4'  d='M84.0,382.9 L570.8,382.9  '/></g>\n",
       "<g fill=\"none\" color=\"gray\" stroke=\"currentColor\" stroke-width=\"1.00\" stroke-linecap=\"butt\" stroke-linejoin=\"miter\">\n",
       "\t<path stroke='black' stroke-dasharray='2,4'  d='M246.3,399.5 L246.3,34.4  '/></g>\n",
       "<g fill=\"none\" color=\"black\" stroke=\"currentColor\" stroke-width=\"1.00\" stroke-linecap=\"butt\" stroke-linejoin=\"miter\">\n",
       "\t<path stroke='black'  d='M84.0,34.4 L84.0,399.5 L570.8,399.5 L570.8,34.4 L84.0,34.4 Z  '/></g>\n",
       "<g fill=\"none\" color=\"black\" stroke=\"currentColor\" stroke-width=\"1.00\" stroke-linecap=\"butt\" stroke-linejoin=\"miter\">\n",
       "\t<g transform=\"translate(22.2,217.0) rotate(270)\" stroke=\"none\" fill=\"black\" font-family=\"Arial\" font-size=\"14.00\"  text-anchor=\"middle\">\n",
       "\t\t<text>(x^2-1)/(x-1)</text>\n",
       "\t</g>\n",
       "</g>\n",
       "<g fill=\"none\" color=\"black\" stroke=\"currentColor\" stroke-width=\"1.00\" stroke-linecap=\"butt\" stroke-linejoin=\"miter\">\n",
       "\t<g transform=\"translate(327.4,456.6)\" stroke=\"none\" fill=\"black\" font-family=\"Arial\" font-size=\"14.00\"  text-anchor=\"middle\">\n",
       "\t\t<text>x</text>\n",
       "\t</g>\n",
       "</g>\n",
       "<g fill=\"none\" color=\"black\" stroke=\"currentColor\" stroke-width=\"1.00\" stroke-linecap=\"butt\" stroke-linejoin=\"miter\">\n",
       "</g>\n",
       "\t<g id=\"gnuplot_plot_1\" ><title>gnuplot_plot_1</title>\n",
       "<g fill=\"none\" color=\"black\" stroke=\"currentColor\" stroke-width=\"1.00\" stroke-linecap=\"butt\" stroke-linejoin=\"miter\">\n",
       "\t<path stroke='rgb(  0,   0, 255)'  d='M84.0,382.9 L88.2,380.0 L92.4,377.2 L96.6,374.3 L100.8,371.5 L105.0,368.6 L109.2,365.7 L113.4,362.9\n",
       "\t\tL117.6,360.0 L121.8,357.2 L126.0,354.3 L130.2,351.4 L134.4,348.6 L138.6,345.7 L142.8,342.8 L146.9,340.0\n",
       "\t\tL151.1,337.1 L155.3,334.3 L159.5,331.4 L163.7,328.5 L167.9,325.7 L172.1,322.8 L176.3,320.0 L180.5,317.1\n",
       "\t\tL184.7,314.2 L188.9,311.4 L193.1,308.5 L197.3,305.6 L201.5,302.8 L205.7,299.9 L209.9,297.1 L214.1,294.2\n",
       "\t\tL218.3,291.3 L222.5,288.5 L226.7,285.6 L230.9,282.8 L235.1,279.9 L239.3,277.0 L243.5,274.2 L247.7,271.3\n",
       "\t\tL251.9,268.5 L256.1,265.6 L260.3,262.7 L264.5,259.9 L268.6,257.0 L272.8,254.1 L277.0,251.3 L281.2,248.4\n",
       "\t\tL285.4,245.6 L289.6,242.7 L293.8,239.8 L298.0,237.0 L302.2,234.1 L306.4,231.3 L310.6,228.4 L314.8,225.5\n",
       "\t\tL319.0,222.7 L323.2,219.8 L327.4,216.9 L331.6,214.1 L335.8,211.2 L340.0,208.4 L344.2,205.5 L348.4,202.6\n",
       "\t\tL352.6,199.8 L356.8,196.9 L361.0,194.1 L365.2,191.2 L369.4,188.3 L373.6,185.5 L377.8,182.6 L382.0,179.8\n",
       "\t\tL386.2,176.9 L390.3,174.0 L394.5,171.2 L398.7,168.3 L402.9,165.4 L407.1,162.6 L411.3,159.7 L415.5,156.9\n",
       "\t\tL419.7,154.0 L423.9,151.1 L428.1,148.3 L432.3,145.4 L436.5,142.6 L440.7,139.7 L444.9,136.8 L449.1,134.0\n",
       "\t\tL453.3,131.1 L457.5,128.3 L461.7,125.4 L465.9,122.5 L470.1,119.7 L474.3,116.8 L478.5,113.9 L482.7,111.1\n",
       "\t\tL486.9,108.2 L491.1,105.4 L495.3,102.5 L499.5,99.6 L503.7,96.8 L507.9,93.9 L512.0,91.1 L516.2,88.2\n",
       "\t\tL520.4,85.3 L524.6,82.5 L528.8,79.6 L533.0,76.7 L537.2,73.9 L541.4,71.0 L545.6,68.2 L549.8,65.3\n",
       "\t\tL554.0,62.4 L558.2,59.6 L562.4,56.7 L566.6,53.9 L570.8,51.0  '/></g>\n",
       "\t</g>\n",
       "<g fill=\"none\" color=\"black\" stroke=\"currentColor\" stroke-width=\"1.00\" stroke-linecap=\"butt\" stroke-linejoin=\"miter\">\n",
       "\t<path stroke='black'  d='M84.0,382.9 L94.5,382.9 M570.8,382.9 L560.3,382.9  '/>\t<g transform=\"translate(74.3,387.5)\" stroke=\"none\" fill=\"black\" font-family=\"Arial\" font-size=\"14.00\"  text-anchor=\"end\">\n",
       "\t\t<text><tspan font-family=\"Arial\" > 0</tspan></text>\n",
       "\t</g>\n",
       "</g>\n",
       "<g fill=\"none\" color=\"black\" stroke=\"currentColor\" stroke-width=\"1.00\" stroke-linecap=\"butt\" stroke-linejoin=\"miter\">\n",
       "\t<path stroke='black'  d='M84.0,327.6 L94.5,327.6 M570.8,327.6 L560.3,327.6  '/>\t<g transform=\"translate(74.3,332.2)\" stroke=\"none\" fill=\"black\" font-family=\"Arial\" font-size=\"14.00\"  text-anchor=\"end\">\n",
       "\t\t<text><tspan font-family=\"Arial\" > 0.5</tspan></text>\n",
       "\t</g>\n",
       "</g>\n",
       "<g fill=\"none\" color=\"black\" stroke=\"currentColor\" stroke-width=\"1.00\" stroke-linecap=\"butt\" stroke-linejoin=\"miter\">\n",
       "\t<path stroke='black'  d='M84.0,272.3 L94.5,272.3 M570.8,272.3 L560.3,272.3  '/>\t<g transform=\"translate(74.3,276.9)\" stroke=\"none\" fill=\"black\" font-family=\"Arial\" font-size=\"14.00\"  text-anchor=\"end\">\n",
       "\t\t<text><tspan font-family=\"Arial\" > 1</tspan></text>\n",
       "\t</g>\n",
       "</g>\n",
       "<g fill=\"none\" color=\"black\" stroke=\"currentColor\" stroke-width=\"1.00\" stroke-linecap=\"butt\" stroke-linejoin=\"miter\">\n",
       "\t<path stroke='black'  d='M84.0,216.9 L94.5,216.9 M570.8,216.9 L560.3,216.9  '/>\t<g transform=\"translate(74.3,221.5)\" stroke=\"none\" fill=\"black\" font-family=\"Arial\" font-size=\"14.00\"  text-anchor=\"end\">\n",
       "\t\t<text><tspan font-family=\"Arial\" > 1.5</tspan></text>\n",
       "\t</g>\n",
       "</g>\n",
       "<g fill=\"none\" color=\"black\" stroke=\"currentColor\" stroke-width=\"1.00\" stroke-linecap=\"butt\" stroke-linejoin=\"miter\">\n",
       "\t<path stroke='black'  d='M84.0,161.6 L94.5,161.6 M570.8,161.6 L560.3,161.6  '/>\t<g transform=\"translate(74.3,166.2)\" stroke=\"none\" fill=\"black\" font-family=\"Arial\" font-size=\"14.00\"  text-anchor=\"end\">\n",
       "\t\t<text><tspan font-family=\"Arial\" > 2</tspan></text>\n",
       "\t</g>\n",
       "</g>\n",
       "<g fill=\"none\" color=\"black\" stroke=\"currentColor\" stroke-width=\"1.00\" stroke-linecap=\"butt\" stroke-linejoin=\"miter\">\n",
       "\t<path stroke='black'  d='M84.0,106.3 L94.5,106.3 M570.8,106.3 L560.3,106.3  '/>\t<g transform=\"translate(74.3,110.9)\" stroke=\"none\" fill=\"black\" font-family=\"Arial\" font-size=\"14.00\"  text-anchor=\"end\">\n",
       "\t\t<text><tspan font-family=\"Arial\" > 2.5</tspan></text>\n",
       "\t</g>\n",
       "</g>\n",
       "<g fill=\"none\" color=\"black\" stroke=\"currentColor\" stroke-width=\"1.00\" stroke-linecap=\"butt\" stroke-linejoin=\"miter\">\n",
       "\t<path stroke='black'  d='M84.0,51.0 L94.5,51.0 M570.8,51.0 L560.3,51.0  '/>\t<g transform=\"translate(74.3,55.6)\" stroke=\"none\" fill=\"black\" font-family=\"Arial\" font-size=\"14.00\"  text-anchor=\"end\">\n",
       "\t\t<text><tspan font-family=\"Arial\" > 3</tspan></text>\n",
       "\t</g>\n",
       "</g>\n",
       "<g fill=\"none\" color=\"black\" stroke=\"currentColor\" stroke-width=\"1.00\" stroke-linecap=\"butt\" stroke-linejoin=\"miter\">\n",
       "\t<path stroke='black'  d='M84.0,399.5 L84.0,389.0 M84.0,34.4 L84.0,44.9  '/>\t<g transform=\"translate(84.0,425.1)\" stroke=\"none\" fill=\"black\" font-family=\"Arial\" font-size=\"14.00\"  text-anchor=\"middle\">\n",
       "\t\t<text><tspan font-family=\"Arial\" >-1</tspan></text>\n",
       "\t</g>\n",
       "</g>\n",
       "<g fill=\"none\" color=\"black\" stroke=\"currentColor\" stroke-width=\"1.00\" stroke-linecap=\"butt\" stroke-linejoin=\"miter\">\n",
       "\t<path stroke='black'  d='M165.1,399.5 L165.1,389.0 M165.1,34.4 L165.1,44.9  '/>\t<g transform=\"translate(165.1,425.1)\" stroke=\"none\" fill=\"black\" font-family=\"Arial\" font-size=\"14.00\"  text-anchor=\"middle\">\n",
       "\t\t<text><tspan font-family=\"Arial\" >-0.5</tspan></text>\n",
       "\t</g>\n",
       "</g>\n",
       "<g fill=\"none\" color=\"black\" stroke=\"currentColor\" stroke-width=\"1.00\" stroke-linecap=\"butt\" stroke-linejoin=\"miter\">\n",
       "\t<path stroke='black'  d='M246.3,399.5 L246.3,389.0 M246.3,34.4 L246.3,44.9  '/>\t<g transform=\"translate(246.3,425.1)\" stroke=\"none\" fill=\"black\" font-family=\"Arial\" font-size=\"14.00\"  text-anchor=\"middle\">\n",
       "\t\t<text><tspan font-family=\"Arial\" > 0</tspan></text>\n",
       "\t</g>\n",
       "</g>\n",
       "<g fill=\"none\" color=\"black\" stroke=\"currentColor\" stroke-width=\"1.00\" stroke-linecap=\"butt\" stroke-linejoin=\"miter\">\n",
       "\t<path stroke='black'  d='M327.4,399.5 L327.4,389.0 M327.4,34.4 L327.4,44.9  '/>\t<g transform=\"translate(327.4,425.1)\" stroke=\"none\" fill=\"black\" font-family=\"Arial\" font-size=\"14.00\"  text-anchor=\"middle\">\n",
       "\t\t<text><tspan font-family=\"Arial\" > 0.5</tspan></text>\n",
       "\t</g>\n",
       "</g>\n",
       "<g fill=\"none\" color=\"black\" stroke=\"currentColor\" stroke-width=\"1.00\" stroke-linecap=\"butt\" stroke-linejoin=\"miter\">\n",
       "\t<path stroke='black'  d='M408.5,399.5 L408.5,389.0 M408.5,34.4 L408.5,44.9  '/>\t<g transform=\"translate(408.5,425.1)\" stroke=\"none\" fill=\"black\" font-family=\"Arial\" font-size=\"14.00\"  text-anchor=\"middle\">\n",
       "\t\t<text><tspan font-family=\"Arial\" > 1</tspan></text>\n",
       "\t</g>\n",
       "</g>\n",
       "<g fill=\"none\" color=\"black\" stroke=\"currentColor\" stroke-width=\"1.00\" stroke-linecap=\"butt\" stroke-linejoin=\"miter\">\n",
       "\t<path stroke='black'  d='M489.7,399.5 L489.7,389.0 M489.7,34.4 L489.7,44.9  '/>\t<g transform=\"translate(489.7,425.1)\" stroke=\"none\" fill=\"black\" font-family=\"Arial\" font-size=\"14.00\"  text-anchor=\"middle\">\n",
       "\t\t<text><tspan font-family=\"Arial\" > 1.5</tspan></text>\n",
       "\t</g>\n",
       "</g>\n",
       "<g fill=\"none\" color=\"black\" stroke=\"currentColor\" stroke-width=\"1.00\" stroke-linecap=\"butt\" stroke-linejoin=\"miter\">\n",
       "\t<path stroke='black'  d='M570.8,399.5 L570.8,389.0 M570.8,34.4 L570.8,44.9  '/>\t<g transform=\"translate(570.8,425.1)\" stroke=\"none\" fill=\"black\" font-family=\"Arial\" font-size=\"14.00\"  text-anchor=\"middle\">\n",
       "\t\t<text><tspan font-family=\"Arial\" > 2</tspan></text>\n",
       "\t</g>\n",
       "</g>\n",
       "<g fill=\"none\" color=\"black\" stroke=\"currentColor\" stroke-width=\"1.00\" stroke-linecap=\"butt\" stroke-linejoin=\"miter\">\n",
       "</g>\n",
       "<g fill=\"none\" color=\"gray\" stroke=\"currentColor\" stroke-width=\"1.00\" stroke-linecap=\"butt\" stroke-linejoin=\"miter\">\n",
       "\t<path stroke='black' stroke-dasharray='2,4'  d='M84.0,382.9 L570.8,382.9  '/></g>\n",
       "<g fill=\"none\" color=\"gray\" stroke=\"currentColor\" stroke-width=\"1.00\" stroke-linecap=\"butt\" stroke-linejoin=\"miter\">\n",
       "\t<path stroke='black' stroke-dasharray='2,4'  d='M246.3,399.5 L246.3,34.4  '/></g>\n",
       "<g fill=\"none\" color=\"gray\" stroke=\"black\" stroke-width=\"2.00\" stroke-linecap=\"butt\" stroke-linejoin=\"miter\">\n",
       "</g>\n",
       "<g fill=\"none\" color=\"black\" stroke=\"currentColor\" stroke-width=\"2.00\" stroke-linecap=\"butt\" stroke-linejoin=\"miter\">\n",
       "</g>\n",
       "<g fill=\"none\" color=\"black\" stroke=\"black\" stroke-width=\"1.00\" stroke-linecap=\"butt\" stroke-linejoin=\"miter\">\n",
       "</g>\n",
       "<g fill=\"none\" color=\"black\" stroke=\"currentColor\" stroke-width=\"1.00\" stroke-linecap=\"butt\" stroke-linejoin=\"miter\">\n",
       "\t<path stroke='black'  d='M84.0,34.4 L84.0,399.5 L570.8,399.5 L570.8,34.4 L84.0,34.4 Z  '/></g>\n",
       "<g fill=\"none\" color=\"black\" stroke=\"currentColor\" stroke-width=\"1.00\" stroke-linecap=\"butt\" stroke-linejoin=\"miter\">\n",
       "</g>\n",
       "</g>\n",
       "</svg>\n",
       "\n"
      ],
      "text/plain": [
       "/tmp/maxplot.svg"
      ]
     },
     "metadata": {},
     "output_type": "display_data"
    },
    {
     "data": {
      "text/latex": [
       "\\[\\tag{${\\it \\%o}_{17}$}\\left[ \\mbox{ /tmp/maxout30315.gnuplot } , \\mbox{ /tmp/maxplot.svg } \\right] \\]"
      ],
      "text/plain": [
       "(%o17)           [/tmp/maxout30315.gnuplot, /tmp/maxplot.svg]"
      ],
      "text/x-maxima": [
       "[\"/tmp/maxout30315.gnuplot\",\"/tmp/maxplot.svg\"]"
      ]
     },
     "execution_count": 14,
     "metadata": {},
     "output_type": "execute_result"
    }
   ],
   "source": []
  },
  {
   "cell_type": "code",
   "execution_count": null,
   "id": "8709dae2-0075-46c9-87a5-6570ec609ba9",
   "metadata": {},
   "outputs": [],
   "source": []
  }
 ],
 "metadata": {
  "kernelspec": {
   "display_name": "Maxima",
   "language": "maxima",
   "name": "maxima"
  },
  "language_info": {
   "codemirror_mode": "maxima",
   "file_extension": ".mac",
   "mimetype": "text/x-maxima",
   "name": "maxima",
   "pygments_lexer": "maxima",
   "version": "5.45.1"
  }
 },
 "nbformat": 4,
 "nbformat_minor": 5
}
