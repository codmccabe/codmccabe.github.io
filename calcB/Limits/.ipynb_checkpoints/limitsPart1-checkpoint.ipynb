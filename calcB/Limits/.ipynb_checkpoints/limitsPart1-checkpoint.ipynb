{
 "cells": [
  {
   "cell_type": "markdown",
   "id": "4fc04879-670d-4257-88e8-41872aae6f67",
   "metadata": {},
   "source": [
    "# Limits Part One\n",
    "\n",
    "Let $f(x)=\\frac{x^2-1}{x-1}$. Evaluate $f(1)$"
   ]
  },
  {
   "cell_type": "code",
   "execution_count": 1,
   "id": "274640f3-e616-43ed-b8a5-4c61e07e1927",
   "metadata": {},
   "outputs": [
    {
     "name": "stdout",
     "output_type": "stream",
     "text": [
      "expt: undefined: 0 to a negative exponent.\n",
      "#0: f(x=1)\n",
      " -- an error. To debug this try: debugmode(true);\n"
     ]
    }
   ],
   "source": [
    "f(x):=(x^2-1)/(x-1)$\n",
    "f(1);"
   ]
  },
  {
   "cell_type": "markdown",
   "id": "68045efb-0d20-4cf5-9b50-1f5295ead0fe",
   "metadata": {},
   "source": [
    "The previous error confirms what we expexted:\n",
    "\n",
    "$$f(0)=\\frac{1^2-1}{1-1}=\\frac{0}{0}$$ \n",
    "\n",
    "and $\\frac{0}{0}$ is unclear in the real numbers. However,"
   ]
  },
  {
   "cell_type": "code",
   "execution_count": 2,
   "id": "41f15f14-f699-429c-aeee-c0c1561c2b90",
   "metadata": {},
   "outputs": [
    {
     "data": {
      "text/latex": [
       "\\[\\tag{${\\it \\%o}_{3}$}2\\]"
      ],
      "text/plain": [
       "(%o3)                                  2"
      ],
      "text/x-maxima": [
       "2"
      ]
     },
     "execution_count": 2,
     "metadata": {},
     "output_type": "execute_result"
    }
   ],
   "source": [
    "limit(f(x),x,1);"
   ]
  },
  {
   "cell_type": "markdown",
   "id": "c6d577bd-f037-4c88-8e2f-40a775413390",
   "metadata": {},
   "source": [
    "provides a result. What is `limit(exprs,x,a)`?\n",
    "\n",
    "Let's look deeper into the function $f$. Factor the top of the function $f$ and simplify:\n",
    "\n",
    "$$\\frac{x^2-1}{x-1} = \\frac{(x-1)(x+1)}{(x-1)} = (x+1)$$"
   ]
  },
  {
   "cell_type": "code",
   "execution_count": 3,
   "id": "45f872d1-c2d9-43af-b0d7-45bc4f9405d8",
   "metadata": {},
   "outputs": [
    {
     "data": {
      "text/latex": [
       "\\[\\tag{${\\it \\%o}_{4}$}x+1\\]"
      ],
      "text/plain": [
       "(%o4)                                x + 1"
      ],
      "text/x-maxima": [
       "x+1"
      ]
     },
     "execution_count": 3,
     "metadata": {},
     "output_type": "execute_result"
    }
   ],
   "source": [
    "factor(f(x));"
   ]
  },
  {
   "cell_type": "markdown",
   "id": "8a929480-8050-4472-9c0c-dde2f963de69",
   "metadata": {},
   "source": [
    "Notice, $f(x)$ is almost equal to a different function $g(x)=x+1$ for all $x$ except when $x=1$. That is,\n",
    "\n",
    "$$f(1) \\text{ is undefined}\\\\ \\text{but } g(1)=2$$\n",
    "\n",
    "If only there was a way to put these two ideas together.\n",
    "\n",
    "---\n",
    "\n",
    "Let's try a different approach. Complete the following table:\n",
    "\n",
    "|$x$ | $f(x)=\\frac{x^2-1}{x-1}$|\n",
    "|--- | --- |\n",
    "|3 | | |\n",
    "|2 | | |\n",
    "|1.5 | |\n",
    "|1.1 | |\n",
    "|1.01| |\n",
    "\n",
    "|$x$ | $f(x)=\\frac{x^2-1}{x-1}$|\n",
    "|--- | --- |\n",
    "| | | |\n",
    "|0.99 | | |\n",
    "|0.9 | |\n",
    "|0.5 | |\n",
    "|0| |"
   ]
  },
  {
   "cell_type": "code",
   "execution_count": 5,
   "id": "5d31d600-5af7-4d41-9334-3be7657365d4",
   "metadata": {},
   "outputs": [
    {
     "data": {
      "text/latex": [
       "\\[\\tag{${\\it \\%o}_{7}$}\\left[ 4 , 3 , 2.5 , 2.1 , 2.009999999999999 \\right] \\]"
      ],
      "text/plain": [
       "(%o7)                 [4, 3, 2.5, 2.1, 2.009999999999999]"
      ],
      "text/x-maxima": [
       "[4,3,2.5,2.1,2.009999999999999]"
      ]
     },
     "execution_count": 5,
     "metadata": {},
     "output_type": "execute_result"
    },
    {
     "data": {
      "text/latex": [
       "\\[\\tag{${\\it \\%o}_{8}$}\\left[ 1.990000000000001 , 1.9 , 1.5 , 1 , 0 \\right] \\]"
      ],
      "text/plain": [
       "(%o8)                 [1.990000000000001, 1.9, 1.5, 1, 0]"
      ],
      "text/x-maxima": [
       "[1.990000000000001,1.9,1.5,1,0]"
      ]
     },
     "execution_count": 5,
     "metadata": {},
     "output_type": "execute_result"
    }
   ],
   "source": [
    "f([3,2,1.5,1.1,1.01]);\n",
    "f([0.99,0.9,0.5,0,-1]);"
   ]
  },
  {
   "cell_type": "markdown",
   "id": "25902744-c2d7-4130-9e2c-0fe59b5de73d",
   "metadata": {},
   "source": [
    "|$x$ | $$f(x)=\\frac{x^2-1}{x-1}$$|\n",
    "|--- | --- |\n",
    "|3 | |4 |\n",
    "|2 | |3|\n",
    "|1.5 |2.5|\n",
    "|1.1 |2.1 |\n",
    "|1.01|2.01 |\n",
    "\n",
    "|$x$ | $$f(x)=\\frac{x^2-1}{x-1}$$|\n",
    "|--- | --- |\n",
    "|0.99 |1.99|\n",
    "|0.9 |1.9| \n",
    "|0.5 |1.5|\n",
    "|0 |1|\n",
    "|-1|0|\n",
    "\n",
    "As one can see, as $x$ approaches $1$ from the left ($x=\\{-1,0,0.5,0.9,0.99\\}$) and as $x$ approaches $1$ from the right ($x=\\{3,2,1.5,1.1,1.01\\}$) the output of $f$ seems to approach $2$. However, $f(1)$ is undefined."
   ]
  },
  {
   "cell_type": "code",
   "execution_count": null,
   "id": "cde0a260-5058-4402-b4f9-4b8c6eb77457",
   "metadata": {},
   "outputs": [],
   "source": []
  }
 ],
 "metadata": {
  "kernelspec": {
   "display_name": "Maxima",
   "language": "maxima",
   "name": "maxima"
  },
  "language_info": {
   "codemirror_mode": "maxima",
   "file_extension": ".mac",
   "mimetype": "text/x-maxima",
   "name": "maxima",
   "pygments_lexer": "maxima",
   "version": "5.45.1"
  }
 },
 "nbformat": 4,
 "nbformat_minor": 5
}
